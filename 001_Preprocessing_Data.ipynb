{
 "cells": [
  {
   "cell_type": "markdown",
   "metadata": {},
   "source": [
    "## Import Packages"
   ]
  },
  {
   "cell_type": "code",
   "execution_count": 1,
   "metadata": {},
   "outputs": [],
   "source": [
    "from os import listdir\n",
    "import pandas as pd\n",
    "import csv\n",
    "import glob"
   ]
  },
  {
   "cell_type": "markdown",
   "metadata": {},
   "source": [
    "## Getting the Data sample"
   ]
  },
  {
   "cell_type": "code",
   "execution_count": 2,
   "metadata": {},
   "outputs": [],
   "source": [
    "# Download the dataset from the challenge page and rename the dataset as training_A and training_B\n",
    "\n",
    "training_a = sorted(listdir('training_A/'))\n",
    "\n",
    "training_b = sorted(listdir('training_B/'))"
   ]
  },
  {
   "cell_type": "code",
   "execution_count": 4,
   "metadata": {},
   "outputs": [
    {
     "data": {
      "text/plain": [
       "(44, 41)"
      ]
     },
     "execution_count": 4,
     "metadata": {},
     "output_type": "execute_result"
    }
   ],
   "source": [
    "dummy = pd.read_csv('training_A/p000902.psv', sep ='|')\n",
    "dummy.shape"
   ]
  },
  {
   "cell_type": "markdown",
   "metadata": {},
   "source": [
    "## Training Data "
   ]
  },
  {
   "cell_type": "code",
   "execution_count": 8,
   "metadata": {},
   "outputs": [],
   "source": [
    "with open(\"sepsis_data.psv\", \"wb\") as fout:\n",
    "    \n",
    "    for i, csv in enumerate(training_a):\n",
    "        if i == 0:\n",
    "            with open('training_A/' + csv, \"rb\") as f:\n",
    "                fout.write(f.read())\n",
    "      # now the rest:    \n",
    "        with open('training_A/' + csv, \"rb\") as f:\n",
    "            next(f) \n",
    "            fout.write(f.read())\n",
    "      \n",
    "    for i,csv in enumerate(training_b):\n",
    "        if i <15000:\n",
    "            with open('training_B/' + csv, \"rb\") as f:\n",
    "                next(f)\n",
    "                fout.write(f.read())"
   ]
  },
  {
   "cell_type": "code",
   "execution_count": 9,
   "metadata": {},
   "outputs": [],
   "source": [
    "sepsis_data = pd.read_csv('sepsis_data.psv', sep ='|')"
   ]
  },
  {
   "cell_type": "code",
   "execution_count": 12,
   "metadata": {},
   "outputs": [
    {
     "name": "stdout",
     "output_type": "stream",
     "text": [
      "      HR  O2Sat  Temp    SBP    MAP  DBP  Resp  EtCO2  BaseExcess  HCO3  ...  \\\n",
      "0    NaN    NaN   NaN    NaN    NaN  NaN   NaN    NaN         NaN   NaN  ...   \n",
      "1   97.0   95.0   NaN   98.0  75.33  NaN  19.0    NaN         NaN   NaN  ...   \n",
      "2   89.0   99.0   NaN  122.0  86.00  NaN  22.0    NaN         NaN   NaN  ...   \n",
      "3   90.0   95.0   NaN    NaN    NaN  NaN  30.0    NaN        24.0   NaN  ...   \n",
      "4  103.0   88.5   NaN  122.0  91.33  NaN  24.5    NaN         NaN   NaN  ...   \n",
      "\n",
      "   WBC  Fibrinogen  Platelets    Age  Gender  Unit1  Unit2  HospAdmTime  \\\n",
      "0  NaN         NaN        NaN  83.14       0    NaN    NaN        -0.03   \n",
      "1  NaN         NaN        NaN  83.14       0    NaN    NaN        -0.03   \n",
      "2  NaN         NaN        NaN  83.14       0    NaN    NaN        -0.03   \n",
      "3  NaN         NaN        NaN  83.14       0    NaN    NaN        -0.03   \n",
      "4  NaN         NaN        NaN  83.14       0    NaN    NaN        -0.03   \n",
      "\n",
      "   ICULOS  SepsisLabel  \n",
      "0       1            0  \n",
      "1       2            0  \n",
      "2       3            0  \n",
      "3       4            0  \n",
      "4       5            0  \n",
      "\n",
      "[5 rows x 41 columns]\n"
     ]
    }
   ],
   "source": [
    "print(sepsis_data.head())\n"
   ]
  },
  {
   "cell_type": "code",
   "execution_count": 11,
   "metadata": {},
   "outputs": [
    {
     "data": {
      "text/plain": [
       "(1361672, 41)"
      ]
     },
     "execution_count": 11,
     "metadata": {},
     "output_type": "execute_result"
    }
   ],
   "source": [
    "sepsis_data.shape"
   ]
  },
  {
   "cell_type": "markdown",
   "metadata": {},
   "source": [
    "## Testing Data "
   ]
  },
  {
   "cell_type": "code",
   "execution_count": 15,
   "metadata": {},
   "outputs": [],
   "source": [
    "with open(\"sepsis_data_test.psv\", \"wb\") as fout:\n",
    "    \n",
    "    for i, csv in enumerate(training_b):\n",
    "        if i >= 15000:\n",
    "            if i == 15000:\n",
    "                with open('training_B/' + csv, \"rb\") as f:\n",
    "                    fout.write(f.read())   \n",
    "            with open('training_B/' + csv, \"rb\") as f:\n",
    "                next(f) \n",
    "                fout.write(f.read())\n",
    "      "
   ]
  },
  {
   "cell_type": "code",
   "execution_count": 16,
   "metadata": {},
   "outputs": [],
   "source": [
    "test = pd.read_csv('sepsis_data_test.psv', sep='|')"
   ]
  },
  {
   "cell_type": "code",
   "execution_count": 17,
   "metadata": {},
   "outputs": [
    {
     "data": {
      "text/plain": [
       "(190615, 41)"
      ]
     },
     "execution_count": 17,
     "metadata": {},
     "output_type": "execute_result"
    }
   ],
   "source": [
    "test.shape"
   ]
  },
  {
   "cell_type": "markdown",
   "metadata": {},
   "source": [
    "## Data Analysis"
   ]
  },
  {
   "cell_type": "code",
   "execution_count": 14,
   "metadata": {},
   "outputs": [],
   "source": [
    "import matplotlib.pyplot as plt\n",
    "%matplotlib inline"
   ]
  },
  {
   "cell_type": "code",
   "execution_count": 16,
   "metadata": {},
   "outputs": [],
   "source": [
    "from sklearn.preprocessing import StandardScaler, OneHotEncoder\n",
    "from sklearn.impute import SimpleImputer\n",
    "#from sklearn_pandas import CategoricalImputer\n",
    "from sklearn.compose import make_column_transformer, ColumnTransformer\n",
    "from sklearn.pipeline import make_pipeline\n",
    "from sklearn.linear_model import LogisticRegression\n",
    "from sklearn.svm import LinearSVC, SVC\n",
    "from sklearn.ensemble import RandomForestClassifier, GradientBoostingClassifier\n",
    "from sklearn.tree import DecisionTreeClassifier\n",
    "from sklearn.model_selection import cross_validate, StratifiedKFold\n",
    "from sklearn.mixture import GaussianMixture\n",
    "from sklearn.neural_network import MLPClassifier\n",
    "import pandas as pd\n",
    "import numpy as np\n",
    "import seaborn as sns\n",
    "import matplotlib.pyplot as plt\n",
    "from pylab import rcParams"
   ]
  },
  {
   "cell_type": "code",
   "execution_count": 56,
   "metadata": {},
   "outputs": [],
   "source": [
    "import missingno as msno"
   ]
  },
  {
   "cell_type": "code",
   "execution_count": 20,
   "metadata": {},
   "outputs": [
    {
     "data": {
      "text/plain": [
       "Index(['HR', 'O2Sat', 'Temp', 'SBP', 'MAP', 'DBP', 'Resp', 'EtCO2',\n",
       "       'BaseExcess', 'HCO3', 'FiO2', 'pH', 'PaCO2', 'SaO2', 'AST', 'BUN',\n",
       "       'Alkalinephos', 'Calcium', 'Chloride', 'Creatinine', 'Bilirubin_direct',\n",
       "       'Glucose', 'Lactate', 'Magnesium', 'Phosphate', 'Potassium',\n",
       "       'Bilirubin_total', 'TroponinI', 'Hct', 'Hgb', 'PTT', 'WBC',\n",
       "       'Fibrinogen', 'Platelets', 'Age', 'Gender', 'Unit1', 'Unit2',\n",
       "       'HospAdmTime', 'ICULOS', 'SepsisLabel'],\n",
       "      dtype='object')"
      ]
     },
     "execution_count": 20,
     "metadata": {},
     "output_type": "execute_result"
    }
   ],
   "source": [
    "sepsis_data.columns"
   ]
  },
  {
   "cell_type": "markdown",
   "metadata": {},
   "source": [
    "## Checking how many patients have Sepsis vs not Sepsis"
   ]
  },
  {
   "cell_type": "code",
   "execution_count": 28,
   "metadata": {},
   "outputs": [],
   "source": [
    "df = sepsis_data['SepsisLabel'].value_counts()"
   ]
  },
  {
   "cell_type": "code",
   "execution_count": 54,
   "metadata": {},
   "outputs": [],
   "source": [
    "no_sepsis_percent = (df[0]/(df[0]+df[1]))*100\n",
    "sepsis_percent = (df[1]/(df[0]+df[1]))*100"
   ]
  },
  {
   "cell_type": "code",
   "execution_count": 53,
   "metadata": {},
   "outputs": [
    {
     "data": {
      "image/png": "[encoded data removed]",
      "text/plain": [
       "<Figure size 432x288 with 1 Axes>"
      ]
     },
     "metadata": {},
     "output_type": "display_data"
    }
   ],
   "source": [
    "#fig = plt.figure(figsize=(5,5))\n",
    "labels = 'No Sepsis', 'Sepsis'\n",
    "sizes = [no_sepsis_percent, sepsis_percent]\n",
    "explode = (0, 0.1)\n",
    "\n",
    "fig1, ax1 = plt.subplots()\n",
    "ax1.pie(sizes, explode = explode, labels = labels, autopct = '%1.0f%%', shadow=True, startangle = 90)\n",
    "ax1.axis('equal')\n",
    "\n",
    "\n",
    "\n",
    "plt.savefig('Saved_Figures/percent_sepsis.png')\n",
    "plt.show()"
   ]
  },
  {
   "cell_type": "code",
   "execution_count": 17,
   "metadata": {},
   "outputs": [
    {
     "data": {
      "image/png": "[encoded data removed]",
      "text/plain": [
       "<Figure size 576x576 with 1 Axes>"
      ]
     },
     "metadata": {
      "needs_background": "light"
     },
     "output_type": "display_data"
    }
   ],
   "source": [
    "plt.figure(figsize=(8, 8))\n",
    "sns.countplot('SepsisLabel', data=sepsis_data)\n",
    "plt.title('Unbalanced Classes')\n",
    "plt.show()"
   ]
  },
  {
   "cell_type": "markdown",
   "metadata": {},
   "source": [
    "## Dealing with Imbalance Data - revisit later"
   ]
  },
  {
   "cell_type": "markdown",
   "metadata": {},
   "source": [
    "### To know about Sepsis"
   ]
  },
  {
   "cell_type": "markdown",
   "metadata": {},
   "source": [
    "Resource: https://www.healthline.com/health/sepsis#symptoms\n",
    "\n",
    "There are three stages of sepsis: sepsis, severe sepsis, and septic shock.\n",
    "Symptoms of Sepsis:\n",
    "    1. Fever abover 101ºF (38ºC) or below 96.8ºF (36ºC) <- Temp (ºC)\n",
    "    2. Heart Rate higher than 90 beats per minute <- HR (beats/min)\n",
    "    3. Breathing rate higher than 20 breaths per min <- Resp (breaths per minute)\n",
    "    4. Systolic Blood Pressure less than or equal to 100 mm of mercury <- SBP (mm Hg)\n",
    "    5. Arterial carbon dioxide tension of less than 32 mm Hg < - PaCO2\n",
    "    6. Abnormal White blood cell count ( >12000/mL or <4000//mL) <- WBC\n",
    "\n",
    "Symptoms of Severe Sepsis and Septic Shock:\n",
    "    1. Platlet count is very low i.e below 80,000/mm3 <- Platlets (count*10^3/µL)\n",
    "    2. Very Low Blood Pressure. i.e less than 65 mm of mercury <- SBP (mm Hg)\n",
    "    3. Too much of lactic acid in your blood(serum lactate) after you have recieved adaquate fluid replacement. Having too much lactic acid in your blood means that your cells aren't using oxygen properly <- Lactate\tLactic acid (mg/dL)\n",
    "    "
   ]
  },
  {
   "cell_type": "markdown",
   "metadata": {},
   "source": []
  },
  {
   "cell_type": "markdown",
   "metadata": {},
   "source": [
    "Sepsis is more common if:\n",
    "\n",
    "1. Age - Infants (age < 5) or old (age > 80) <- Age\n",
    "2. Weak Immune System\n",
    "3. Have diabetes <- Contributing factors - Glucode Serum glucose (mg/dL)"
   ]
  },
  {
   "cell_type": "markdown",
   "metadata": {},
   "source": [
    "https://www.ncbi.nlm.nih.gov/pmc/articles/PMC4958885/\n",
    "\n",
    "Interesting information :\n",
    "    \n",
    "Septic shock is defined as unrecovered hypotension despite \n",
    "adequate fluid replacement in the Surviving Sepsis Campaign (SSC) \n",
    "Guidelines\n",
    "\n",
    "1.  septic shock can be diagnosed under two conditions:\n",
    "    - The first condition is persistent hypotension after \n",
    "    fluid resuscitation and requiring vasopressors to \n",
    "    maintain MAP >65 mmHg. \n",
    "    - The second condition is serum lactate level >2 mmol/L. \n",
    "    \n",
    "increased serum lactate level may represent tissue hypoperfusion \n",
    "associated with signs of organ dysfunction in critically ill patients\n",
    "serum lactate level is found to be > 2 mmol/L\n",
    "\n"
   ]
  },
  {
   "cell_type": "markdown",
   "metadata": {},
   "source": [
    "### Contribution of Heart rate to sepsis?\n",
    "\n",
    "- In normal situations, heart rate varies, indicating the heart's \n",
    "capacity to adapt to different situations. HRV measures the \n",
    "oscillation of the intervals between consecutive heart beats, \n",
    "which are related to, the influences of the autonomic nervous \n",
    "system on the sinus node.\n",
    "\n",
    "-  Patients with sepsis have reduced HRV compared to healthy patients,\n",
    "as demonstrated in small studies"
   ]
  },
  {
   "cell_type": "code",
   "execution_count": null,
   "metadata": {},
   "outputs": [],
   "source": []
  }
 ],
 "metadata": {
  "kernelspec": {
   "display_name": "Python 3",
   "language": "python",
   "name": "python3"
  },
  "language_info": {
   "codemirror_mode": {
    "name": "ipython",
    "version": 3
   },
   "file_extension": ".py",
   "mimetype": "text/x-python",
   "name": "python",
   "nbconvert_exporter": "python",
   "pygments_lexer": "ipython3",
   "version": "3.7.4"
  }
 },
 "nbformat": 4,
 "nbformat_minor": 2
}
