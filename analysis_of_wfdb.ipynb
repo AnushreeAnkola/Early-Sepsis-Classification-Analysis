{
 "cells": [
  {
   "cell_type": "markdown",
   "metadata": {},
   "source": [
    "# Scripts to manipulate the Waveform Database - wfdb package"
   ]
  },
  {
   "cell_type": "markdown",
   "metadata": {},
   "source": [
    "## References:\n",
    "\n",
    "https://github.com/MIT-LCP/wfdb-python\n",
    "\n",
    "http://wfdb.readthedocs.io/"
   ]
  },
  {
   "cell_type": "code",
   "execution_count": 1,
   "metadata": {},
   "outputs": [],
   "source": [
    "from IPython.display import display\n",
    "import matplotlib.pyplot as plt\n",
    "%matplotlib inline\n",
    "import numpy as np\n",
    "import os\n",
    "import shutil\n",
    "\n",
    "import wfdb"
   ]
  },
  {
   "cell_type": "markdown",
   "metadata": {},
   "source": [
    "## Reading Records and Annotations"
   ]
  },
  {
   "cell_type": "code",
   "execution_count": 2,
   "metadata": {},
   "outputs": [],
   "source": [
    "# Read a wfdb record using the 'rdrecord' function into a wfdb.Record object.\n",
    "# Plot the signals, and show the data.\n",
    "\n",
    "# The same files are hosted on Physiobank https://physionet.org/physiobank/database/\n",
    "# in the challenge/2015/training/ database subdirectory. Full url = https://physionet.org/physiobank/database/challenge/2015/training/\n",
    "\n",
    "record = wfdb.rdrecord('a103l', pb_dir='challenge/2015/training/')"
   ]
  },
  {
   "cell_type": "code",
   "execution_count": 3,
   "metadata": {},
   "outputs": [
    {
     "data": {
      "image/png": "[encoded data removed]",
      "text/plain": [
       "<Figure size 432x288 with 3 Axes>"
      ]
     },
     "metadata": {
      "needs_background": "light"
     },
     "output_type": "display_data"
    },
    {
     "data": {
      "text/plain": [
       "{'record_name': 'a103l',\n",
       " 'n_sig': 3,\n",
       " 'fs': 250,\n",
       " 'counter_freq': None,\n",
       " 'base_counter': None,\n",
       " 'sig_len': 82500,\n",
       " 'base_time': None,\n",
       " 'base_date': None,\n",
       " 'comments': ['Asystole', 'False alarm'],\n",
       " 'sig_name': ['II', 'V', 'PLETH'],\n",
       " 'p_signal': array([[-0.02359597,  0.86758555,  0.48220271],\n",
       "        [-0.03698082,  0.98298479,  0.5443735 ],\n",
       "        [-0.06292259,  0.85979087,  0.47821229],\n",
       "        ...,\n",
       "        [-0.04084449,  0.7493346 ,  0.5150838 ],\n",
       "        [-0.04719194,  0.7581749 ,  0.50957702],\n",
       "        [-0.04677798,  0.7615019 ,  0.5028731 ]]),\n",
       " 'd_signal': None,\n",
       " 'e_p_signal': None,\n",
       " 'e_d_signal': None,\n",
       " 'file_name': ['a103l.mat', 'a103l.mat', 'a103l.mat'],\n",
       " 'fmt': ['16', '16', '16'],\n",
       " 'samps_per_frame': [1, 1, 1],\n",
       " 'skew': [None, None, None],\n",
       " 'byte_offset': [24, 24, 24],\n",
       " 'adc_gain': [7247.0, 10520.0, 12530.0],\n",
       " 'baseline': [0, 0, 0],\n",
       " 'units': ['mV', 'mV', 'NU'],\n",
       " 'adc_res': [16, 16, 16],\n",
       " 'adc_zero': [0, 0, 0],\n",
       " 'init_value': [-171, 9127, 6042],\n",
       " 'checksum': [-27403, -301, -17391],\n",
       " 'block_size': [0, 0, 0]}"
      ]
     },
     "metadata": {},
     "output_type": "display_data"
    }
   ],
   "source": [
    "wfdb.plot_wfdb(record=record, title='Record a103l from Physionet Challenge 2015') \n",
    "display(record.__dict__)"
   ]
  },
  {
   "cell_type": "code",
   "execution_count": 6,
   "metadata": {},
   "outputs": [
    {
     "data": {
      "text/plain": [
       "array([[ 0.0335, -0.167 , -0.237 ,  0.1165],\n",
       "       [ 0.0355, -0.1615, -0.2395,  0.119 ],\n",
       "       [ 0.0385, -0.168 , -0.2465,  0.116 ],\n",
       "       ...,\n",
       "       [-0.0445,  0.008 ,  0.033 ,  0.045 ],\n",
       "       [-0.044 ,  0.0175,  0.042 ,  0.052 ],\n",
       "       [-0.044 ,  0.0245,  0.0365,  0.05  ]])"
      ]
     },
     "metadata": {},
     "output_type": "display_data"
    },
    {
     "data": {
      "text/plain": [
       "{'fs': 1000,\n",
       " 'sig_len': 14900,\n",
       " 'n_sig': 4,\n",
       " 'base_date': None,\n",
       " 'base_time': None,\n",
       " 'units': ['mV', 'mV', 'mV', 'mV'],\n",
       " 'sig_name': ['vz', 'i', 'avf', 'v5'],\n",
       " 'comments': ['age: 81',\n",
       "  'sex: female',\n",
       "  'ECG date: 01/10/1990',\n",
       "  'Diagnose:',\n",
       "  'Reason for admission: Myocardial infarction',\n",
       "  'Acute infarction (localization): infero-latera',\n",
       "  'Former infarction (localization): no',\n",
       "  'Additional diagnoses: Diabetes mellitus',\n",
       "  'Smoker: no',\n",
       "  'Number of coronary vessels involved: 1',\n",
       "  'Infarction date (acute): 29-Sep-90',\n",
       "  'Previous infarction (1) date: n/a',\n",
       "  'Previous infarction (2) date: n/a',\n",
       "  'Hemodynamics:',\n",
       "  'Catheterization date: 16-Oct-90',\n",
       "  'Ventriculography: Akinesia inferior wall',\n",
       "  'Chest X-ray: Heart size upper limit of norm',\n",
       "  'Peripheral blood Pressure (syst/diast):  140/80 mmHg',\n",
       "  'Pulmonary artery pressure (at rest) (syst/diast): n/a',\n",
       "  'Pulmonary artery pressure (at rest) (mean): n/a',\n",
       "  'Pulmonary capillary wedge pressure (at rest): n/a',\n",
       "  'Cardiac output (at rest): n/a',\n",
       "  'Cardiac index (at rest): n/a',\n",
       "  'Stroke volume index (at rest): n/a',\n",
       "  'Pulmonary artery pressure (laod) (syst/diast): n/a',\n",
       "  'Pulmonary artery pressure (laod) (mean): n/a',\n",
       "  'Pulmonary capillary wedge pressure (load): n/a',\n",
       "  'Cardiac output (load): n/a',\n",
       "  'Cardiac index (load): n/a',\n",
       "  'Stroke volume index (load): n/a',\n",
       "  'Aorta (at rest) (syst/diast): 160/64 cmH2O',\n",
       "  'Aorta (at rest) mean: 106 cmH2O',\n",
       "  'Left ventricular enddiastolic pressure: 11 cmH2O',\n",
       "  'Left coronary artery stenoses (RIVA): RIVA 70% proximal to ramus diagonalis_2',\n",
       "  'Left coronary artery stenoses (RCX): No stenoses',\n",
       "  'Right coronary artery stenoses (RCA): No stenoses',\n",
       "  'Echocardiography: n/a',\n",
       "  'Therapy:',\n",
       "  'Infarction date: 29-Sep-90',\n",
       "  'Catheterization date: 16-Oct-90',\n",
       "  'Admission date: 29-Sep-90',\n",
       "  'Medication pre admission: Isosorbit-Dinitrate Digoxin Glibenclamide',\n",
       "  'Start lysis therapy (hh.mm): 19:45',\n",
       "  'Lytic agent: Gamma-TPA',\n",
       "  'Dosage (lytic agent): 30 mg',\n",
       "  'Additional medication: Heparin Isosorbit-Mononitrate ASA Diazepam',\n",
       "  'In hospital medication: ASA Isosorbit-Mononitrate Ca-antagonist Amiloride+Chlorothiazide Glibenclamide Insulin',\n",
       "  'Medication after discharge: ASA Isosorbit-Mononitrate Amiloride+Chlorothiazide Glibenclamide']}"
      ]
     },
     "metadata": {},
     "output_type": "display_data"
    }
   ],
   "source": [
    "# Read certain channels and sections of the WFDB record using the simplified 'rdsamp' function\n",
    "# (the same files hosted on Physiobank)\n",
    "# which returns a numpy array and a dictionary. Show the data.\n",
    " \n",
    "signals, fields = wfdb.rdsamp('s0010_re', channels=[14, 0, 5, 10], sampfrom=100, sampto=15000, pb_dir='ptbdb/patient001/')\n",
    "display(signals)\n",
    "display(fields)"
   ]
  },
  {
   "cell_type": "code",
   "execution_count": 7,
   "metadata": {},
   "outputs": [
    {
     "data": {
      "text/plain": [
       "{'record_name': 'a103l',\n",
       " 'n_sig': 3,\n",
       " 'fs': 250,\n",
       " 'counter_freq': None,\n",
       " 'base_counter': None,\n",
       " 'sig_len': 82500,\n",
       " 'base_time': None,\n",
       " 'base_date': None,\n",
       " 'comments': ['Asystole', 'False alarm'],\n",
       " 'sig_name': ['II', 'V', 'PLETH'],\n",
       " 'p_signal': array([[-0.02359597,  0.86758555,  0.48220271],\n",
       "        [-0.03698082,  0.98298479,  0.5443735 ],\n",
       "        [-0.06292259,  0.85979087,  0.47821229],\n",
       "        ...,\n",
       "        [-0.04084449,  0.7493346 ,  0.5150838 ],\n",
       "        [-0.04719194,  0.7581749 ,  0.50957702],\n",
       "        [-0.04677798,  0.7615019 ,  0.5028731 ]]),\n",
       " 'd_signal': None,\n",
       " 'e_p_signal': None,\n",
       " 'e_d_signal': None,\n",
       " 'file_name': ['a103l.mat', 'a103l.mat', 'a103l.mat'],\n",
       " 'fmt': ['16', '16', '16'],\n",
       " 'samps_per_frame': [1, 1, 1],\n",
       " 'skew': [None, None, None],\n",
       " 'byte_offset': [24, 24, 24],\n",
       " 'adc_gain': [7247.0, 10520.0, 12530.0],\n",
       " 'baseline': [0, 0, 0],\n",
       " 'units': ['mV', 'mV', 'NU'],\n",
       " 'adc_res': [16, 16, 16],\n",
       " 'adc_zero': [0, 0, 0],\n",
       " 'init_value': [-171, 9127, 6042],\n",
       " 'checksum': [-27403, -301, -17391],\n",
       " 'block_size': [0, 0, 0]}"
      ]
     },
     "metadata": {},
     "output_type": "display_data"
    }
   ],
   "source": [
    "# Read a WFDB header file only (without the signals) | (the same files hosted on Physiobank)\n",
    "\n",
    "record2 = wfdb.rdheader('drive02', pb_dir='drivedb')\n",
    "display(record.__dict__)"
   ]
  },
  {
   "cell_type": "code",
   "execution_count": 9,
   "metadata": {},
   "outputs": [
    {
     "data": {
      "image/png": "[encoded data removed]",
      "text/plain": [
       "<Figure size 432x288 with 1 Axes>"
      ]
     },
     "metadata": {
      "needs_background": "light"
     },
     "output_type": "display_data"
    }
   ],
   "source": [
    "# Read part of a WFDB annotation file into a wfdb.Annotation object, and plot the samples | (the same files hosted on Physiobank)\n",
    "\n",
    "annotation = wfdb.rdann('100', 'atr', sampfrom=100000, sampto=110000, pb_dir='mitdb')\n",
    "annotation.fs = 360\n",
    "wfdb.plot_wfdb(annotation=annotation, time_units='minutes')"
   ]
  },
  {
   "cell_type": "markdown",
   "metadata": {},
   "source": [
    "### MIMIC matched waveform database\n",
    "\n",
    " These waveforms have been matched to clinical data in the MIMIC Clinical database. The input records are multi-segment (made up of multiple individual WFDB records) and relatively long.\n"
   ]
  },
  {
   "cell_type": "code",
   "execution_count": 16,
   "metadata": {},
   "outputs": [
    {
     "ename": "AttributeError",
     "evalue": "'tuple' object has no attribute 'p_signal'",
     "output_type": "error",
     "traceback": [
      "\u001b[0;31m---------------------------------------------------------------------------\u001b[0m",
      "\u001b[0;31mAttributeError\u001b[0m                            Traceback (most recent call last)",
      "\u001b[0;32m<ipython-input-16-b6fc35028d2a>\u001b[0m in \u001b[0;36m<module>\u001b[0;34m\u001b[0m\n\u001b[1;32m      5\u001b[0m \u001b[0;31m# Can also read the same files hosted on PhysioBank (takes long to stream the many large files)\u001b[0m\u001b[0;34m\u001b[0m\u001b[0;34m\u001b[0m\u001b[0;34m\u001b[0m\u001b[0m\n\u001b[1;32m      6\u001b[0m \u001b[0mrecord\u001b[0m \u001b[0;34m=\u001b[0m \u001b[0mwfdb\u001b[0m\u001b[0;34m.\u001b[0m\u001b[0mrdsamp\u001b[0m\u001b[0;34m(\u001b[0m\u001b[0;34m's25047-2704-05-04-10-44'\u001b[0m\u001b[0;34m,\u001b[0m \u001b[0mpb_dir\u001b[0m \u001b[0;34m=\u001b[0m \u001b[0;34m'mimic2wdb/matched/s25047'\u001b[0m\u001b[0;34m)\u001b[0m\u001b[0;34m\u001b[0m\u001b[0;34m\u001b[0m\u001b[0m\n\u001b[0;32m----> 7\u001b[0;31m \u001b[0mwfdb\u001b[0m\u001b[0;34m.\u001b[0m\u001b[0mplot_wfdb\u001b[0m\u001b[0;34m(\u001b[0m\u001b[0mrecord\u001b[0m\u001b[0;34m=\u001b[0m\u001b[0mrecord\u001b[0m\u001b[0;34m,\u001b[0m \u001b[0mtitle\u001b[0m\u001b[0;34m=\u001b[0m\u001b[0;34m'Record s25047-2704-05-04-10-44'\u001b[0m\u001b[0;34m)\u001b[0m\u001b[0;34m\u001b[0m\u001b[0;34m\u001b[0m\u001b[0m\n\u001b[0m\u001b[1;32m      8\u001b[0m \u001b[0mdisplay\u001b[0m\u001b[0;34m(\u001b[0m\u001b[0mrecord\u001b[0m\u001b[0;34m.\u001b[0m\u001b[0m__dict__\u001b[0m\u001b[0;34m)\u001b[0m\u001b[0;34m\u001b[0m\u001b[0;34m\u001b[0m\u001b[0m\n",
      "\u001b[0;32m~/anaconda3/envs/wfdb_physionet/lib/python3.7/site-packages/wfdb/plot/plot.py\u001b[0m in \u001b[0;36mplot_wfdb\u001b[0;34m(record, annotation, plot_sym, time_units, title, sig_style, ann_style, ecg_grids, figsize, return_fig)\u001b[0m\n\u001b[1;32m    405\u001b[0m         \u001b[0mylabel\u001b[0m\u001b[0;34m,\u001b[0m \u001b[0mrecord_name\u001b[0m\u001b[0;34m)\u001b[0m \u001b[0;34m=\u001b[0m \u001b[0mget_wfdb_plot_items\u001b[0m\u001b[0;34m(\u001b[0m\u001b[0mrecord\u001b[0m\u001b[0;34m=\u001b[0m\u001b[0mrecord\u001b[0m\u001b[0;34m,\u001b[0m\u001b[0;34m\u001b[0m\u001b[0;34m\u001b[0m\u001b[0m\n\u001b[1;32m    406\u001b[0m                                                    \u001b[0mannotation\u001b[0m\u001b[0;34m=\u001b[0m\u001b[0mannotation\u001b[0m\u001b[0;34m,\u001b[0m\u001b[0;34m\u001b[0m\u001b[0;34m\u001b[0m\u001b[0m\n\u001b[0;32m--> 407\u001b[0;31m                                                    plot_sym=plot_sym)\n\u001b[0m\u001b[1;32m    408\u001b[0m \u001b[0;34m\u001b[0m\u001b[0m\n\u001b[1;32m    409\u001b[0m     return plot_items(signal=signal, ann_samp=ann_samp, ann_sym=ann_sym, fs=fs,\n",
      "\u001b[0;32m~/anaconda3/envs/wfdb_physionet/lib/python3.7/site-packages/wfdb/plot/plot.py\u001b[0m in \u001b[0;36mget_wfdb_plot_items\u001b[0;34m(record, annotation, plot_sym)\u001b[0m\n\u001b[1;32m    421\u001b[0m     \u001b[0;31m# Get record attributes\u001b[0m\u001b[0;34m\u001b[0m\u001b[0;34m\u001b[0m\u001b[0;34m\u001b[0m\u001b[0m\n\u001b[1;32m    422\u001b[0m     \u001b[0;32mif\u001b[0m \u001b[0mrecord\u001b[0m\u001b[0;34m:\u001b[0m\u001b[0;34m\u001b[0m\u001b[0;34m\u001b[0m\u001b[0m\n\u001b[0;32m--> 423\u001b[0;31m         \u001b[0;32mif\u001b[0m \u001b[0mrecord\u001b[0m\u001b[0;34m.\u001b[0m\u001b[0mp_signal\u001b[0m \u001b[0;32mis\u001b[0m \u001b[0;32mnot\u001b[0m \u001b[0;32mNone\u001b[0m\u001b[0;34m:\u001b[0m\u001b[0;34m\u001b[0m\u001b[0;34m\u001b[0m\u001b[0m\n\u001b[0m\u001b[1;32m    424\u001b[0m             \u001b[0msignal\u001b[0m \u001b[0;34m=\u001b[0m \u001b[0mrecord\u001b[0m\u001b[0;34m.\u001b[0m\u001b[0mp_signal\u001b[0m\u001b[0;34m\u001b[0m\u001b[0;34m\u001b[0m\u001b[0m\n\u001b[1;32m    425\u001b[0m         \u001b[0;32melif\u001b[0m \u001b[0mrecord\u001b[0m\u001b[0;34m.\u001b[0m\u001b[0md_signal\u001b[0m \u001b[0;32mis\u001b[0m \u001b[0;32mnot\u001b[0m \u001b[0;32mNone\u001b[0m\u001b[0;34m:\u001b[0m\u001b[0;34m\u001b[0m\u001b[0;34m\u001b[0m\u001b[0m\n",
      "\u001b[0;31mAttributeError\u001b[0m: 'tuple' object has no attribute 'p_signal'"
     ]
    }
   ],
   "source": [
    "# Read the multi-segment record and plot waveforms from the MIMIC matched waveform database. \n",
    "\n",
    "# Can also read the same files hosted on PhysioBank (takes long to stream the many large files)\n",
    "\n",
    "#edit - I am still working on resolving the error\n",
    "\n",
    "record = wfdb.rdsamp('s25047-2704-05-04-10-44', pb_dir = 'mimic2wdb/matched/s25047')\n",
    "wfdb.plot_wfdb(record=record, title='Record s25047-2704-05-04-10-44') \n",
    "display(record.__dict__)"
   ]
  },
  {
   "cell_type": "code",
   "execution_count": null,
   "metadata": {},
   "outputs": [],
   "source": [
    "# Read the multi-segment record and plot waveforms from the MIMIC matched waveform database.\n",
    "# Notice that some channels have no valid values to plot\n",
    "# Can also read the same files hosted on PhysioBank\n",
    "\n",
    "record = wfdb.rdrecord('s00001-2896-10-10-00-31', sampfrom=3000000, sampto=4000000,\n",
    "                        pb_dir = 'mimic2wdb/matched/s00001')\n",
    "\n",
    "wfdb.plot_wfdb(record, title='Record s00001/s00001-2896-10-10-00-31') \n",
    "display(record.__dict__)"
   ]
  },
  {
   "cell_type": "markdown",
   "metadata": {},
   "source": [
    "## Downloading Content from Physiobank\n",
    "\n",
    "- The downloads are made via http\n",
    "- We can streaming WFDB files stored in Physiobank without downloading them to local disk as well\n"
   ]
  },
  {
   "cell_type": "code",
   "execution_count": 17,
   "metadata": {},
   "outputs": [
    {
     "data": {
      "text/plain": [
       "[['adfecgdb', 'Abdominal and Direct Fetal ECG Database'],\n",
       " ['aftdb', 'AF Termination Challenge Database'],\n",
       " ['ahadb', 'AHA Database [sample excluded record]'],\n",
       " ['aami-ec13', 'ANSI/AAMI EC13 Test Waveforms'],\n",
       " ['apnea-ecg', 'Apnea-ECG Database'],\n",
       " ['chfdb', 'BIDMC Congestive Heart Failure Database'],\n",
       " ['bidmc', 'BIDMC PPG and Respiration Dataset'],\n",
       " ['bpssrat', 'Blood Pressure in Salt-Sensitive Dahl Rats'],\n",
       " ['capslpdb', 'CAP Sleep Database'],\n",
       " ['crisdb', 'CAST RR Interval Sub-Study Database'],\n",
       " ['cves', 'Cerebral Vasoregulation in Elderly with Stroke'],\n",
       " ['challenge/2009/test-set-a', 'Challenge 2009 Test Set A'],\n",
       " ['challenge/2009/test-set-b', 'Challenge 2009 Test Set B'],\n",
       " ['challenge/2010/set-a', 'Challenge 2010 Training Set A'],\n",
       " ['challenge/2010/set-b', 'Challenge 2010 Test Set B'],\n",
       " ['challenge/2010/set-c', 'Challenge 2010 Test Set C'],\n",
       " ['challenge/2011/sim', 'Challenge 2011 Pilot Set'],\n",
       " ['challenge/2011/set-a', 'Challenge 2011 Training Set A'],\n",
       " ['challenge/2011/set-b', 'Challenge 2011 Test Set B'],\n",
       " ['challenge/2013/set-a', 'Challenge 2013 Training Set A'],\n",
       " ['challenge/2013/set-b', 'Challenge 2013 Test Set B'],\n",
       " ['challenge/2014/set-p2', 'Challenge 2014 Extended Training Set'],\n",
       " ['challenge/2014/set-p', 'Challenge 2014 Training Set'],\n",
       " ['challenge/2015/training', 'Challenge 2015 Training Set'],\n",
       " ['challenge/2016/training-a', 'Challenge 2016 Training Set A'],\n",
       " ['challenge/2016/training-b', 'Challenge 2016 Training Set B'],\n",
       " ['challenge/2016/training-c', 'Challenge 2016 Training Set C'],\n",
       " ['challenge/2016/training-d', 'Challenge 2016 Training Set D'],\n",
       " ['challenge/2016/training-e', 'Challenge 2016 Training Set E'],\n",
       " ['challenge/2016/training-f', 'Challenge 2016 Training Set F'],\n",
       " ['challenge/2017/training', 'Challenge 2017 Training Set'],\n",
       " ['challenge/2018/training', 'Challenge 2018 Training Set'],\n",
       " ['challenge/2018/test', 'Challenge 2018 Test Set'],\n",
       " ['charisdb', 'CHARIS database'],\n",
       " ['chbmit', 'CHB-MIT Scalp EEG Database'],\n",
       " ['cebsdb', 'Combined measurement of ECG, Breathing and Seismocardiograms'],\n",
       " ['culm', 'Complex Upper-Limb Movements'],\n",
       " ['chf2db', 'Congestive Heart Failure RR Interval Database'],\n",
       " ['ctu-uhb-ctgdb', 'CTU-CHB Intrapartum Cardiotocography Database'],\n",
       " ['cudb', 'CU Ventricular Tachyarrhythmia Database'],\n",
       " ['ecgdmmld',\n",
       "  'ECG Effects of Dofetilide, Moxifloxacin, Dofetilide+Mexiletine, Dofetilide+Lidocaine and Moxifloxacin+Diltiazem'],\n",
       " ['ecgcipa', 'CiPA ECG Validation Study'],\n",
       " ['ecgrdvq',\n",
       "  'ECG Effects of Ranolazine, Dofetilide, Verapamil, and Quinidine'],\n",
       " ['ecgiddb', 'ECG-ID Database'],\n",
       " ['eegmat', 'EEG During Mental Arithmetic Tasks'],\n",
       " ['eegmmidb', 'EEG Motor Movement/Imagery Dataset'],\n",
       " ['ltrsvp', 'EEG Signals from an RSVP Task'],\n",
       " ['erpbci', 'ERP-based Brain-Computer Interface recordings'],\n",
       " ['edb', 'European ST-T Database'],\n",
       " ['earh', 'Evoked Auditory Responses in Heading Impaired'],\n",
       " ['earndb', 'Evoked Auditory Responses in Normals'],\n",
       " ['emgdb', 'Examples of Electromyograms'],\n",
       " ['fantasia', 'Fantasia Database'],\n",
       " ['fecgsyndb', 'Fetal ECG Synthetic Database'],\n",
       " ['fpcgdb', 'Fetal PCG Database'],\n",
       " ['gaitdb', 'Gait in Aging and Disease Database'],\n",
       " ['gaitndd', 'Gait in Neurodegenerative Disease Database'],\n",
       " ['gait-maturation-db/data', 'Gait Maturation Database'],\n",
       " ['meditation/data', 'Heart Rate Oscillations during Meditation'],\n",
       " ['hbedb', 'Human Balance Evaluation Database'],\n",
       " ['ehgdb', 'Icelandic 16-electrode Electrohysterogram Database'],\n",
       " ['iafdb', 'Intracardiac Atrial Fibrillation Database'],\n",
       " ['ltafdb', 'Long Term AF Database'],\n",
       " ['ltstdb', 'Long Term ST Database'],\n",
       " ['mssvepdb', 'MAMEM SSVEP Database'],\n",
       " ['mghdb', 'MGH/MF Waveform Database'],\n",
       " ['mimicdb', 'MIMIC Database'],\n",
       " ['mimicdb/numerics', 'MIMIC Database Numerics'],\n",
       " ['mimic2cdb', 'MIMIC II Clinical Database Public Subset'],\n",
       " ['mimic2wdb/30', 'MIMIC II/III Waveform Database, part 0'],\n",
       " ['mimic2wdb/31', 'MIMIC II/III Waveform Database, part 1'],\n",
       " ['mimic2wdb/32', 'MIMIC II/III Waveform Database, part 2'],\n",
       " ['mimic2wdb/33', 'MIMIC II/III Waveform Database, part 3'],\n",
       " ['mimic2wdb/34', 'MIMIC II/III Waveform Database, part 4'],\n",
       " ['mimic2wdb/35', 'MIMIC II/III Waveform Database, part 5'],\n",
       " ['mimic2wdb/36', 'MIMIC II/III Waveform Database, part 6'],\n",
       " ['mimic2wdb/37', 'MIMIC II/III Waveform Database, part 7'],\n",
       " ['mimic2wdb/38', 'MIMIC II/III Waveform Database, part 8'],\n",
       " ['mimic2wdb/39', 'MIMIC II/III Waveform Database, part 9'],\n",
       " ['mimic2wdb/matched', 'MIMIC II Waveform Database Matched Subset'],\n",
       " ['mimic3wdb/matched', 'MIMIC III Waveform Database Matched Subset'],\n",
       " ['mitdb', 'MIT-BIH Arrhythmia Database'],\n",
       " ['pwave', 'MIT-BIH Arrhythmia Database P-Wave Annotations'],\n",
       " ['afdb', 'MIT-BIH Atrial Fibrillation Database'],\n",
       " ['cdb', 'MIT-BIH ECG Compression Test Database'],\n",
       " ['ltdb', 'MIT-BIH Long-Term ECG Database'],\n",
       " ['vfdb', 'MIT-BIH Malignant Ventricular Ectopy Database'],\n",
       " ['nstdb', 'MIT-BIH Noise Stress Test Database'],\n",
       " ['nsrdb', 'MIT-BIH Normal Sinus Rhythm Database'],\n",
       " ['excluded', '... [Recordings excluded from the NSR DB]'],\n",
       " ['slpdb', 'MIT-BIH Polysomnographic Database'],\n",
       " ['stdb', 'MIT-BIH ST Change Database'],\n",
       " ['svdb', 'MIT-BIH Supraventricular Arrhythmia Database'],\n",
       " ['mmgdb', 'MMG Database'],\n",
       " ['macecgdb', 'Motion Artifact Contaminated ECG Database'],\n",
       " ['motion-artifact', 'Motion Artifact Contaminated fNIRS and EEG Data'],\n",
       " ['noneeg', 'Non-EEG Dataset for Assessment of Neurological Status'],\n",
       " ['nifecgdb', 'Non-Invasive Fetal ECG Database'],\n",
       " ['nifeadb', 'Non-Invasive Fetal ECG Arrhythmia Database'],\n",
       " ['nsr2db', 'Normal Sinus Rhythm RR Interval Database'],\n",
       " ['ob1db', 'OB-1 Fetal ECG Database [sample record]'],\n",
       " ['afpdb', 'PAF Prediction Challenge Database'],\n",
       " ['osv', 'Pattern Analysis of Oxygen Saturation Variability'],\n",
       " ['prcp', 'Physiologic Response to Changes in Posture'],\n",
       " ['szdb', 'Post-Ictal Heart Rate Oscillations in Partial Epilepsy'],\n",
       " ['picsdb', 'Preterm Infant Cardio-Respiratory Signals Database'],\n",
       " ['ptbdb', 'PTB Diagnostic ECG Database'],\n",
       " ['qtdb', 'QT Database'],\n",
       " ['rvmh1', 'Response to Valsalva Maneuver in Humans'],\n",
       " ['sufhsdb', 'Shiraz University Fetal Heart Sounds Database'],\n",
       " ['simfpcgdb', 'Simulated Fetal Phonocardiograms'],\n",
       " ['sleepbrl', 'Sleep Bioradiolocation Database'],\n",
       " ['sleep-edfx', 'Sleep-EDF Database [Expanded]'],\n",
       " ['shhpsgdb', 'Sleep Heart Health Study PSG Database [sample record]'],\n",
       " ['shareedb',\n",
       "  'Smart Health for Assessing the Risk of Events via ECG Database'],\n",
       " ['mvtdb/data', 'Spontaneous Ventricular Tachyarrhythmia Database'],\n",
       " ['sgamp', 'Squid Giant Axon Membrane Potential'],\n",
       " ['incartdb', 'St Petersburg INCART 12-lead Arrhythmia Database'],\n",
       " ['staffiii', 'STAFF III Database'],\n",
       " ['drivedb', 'Stress Recognition in Automobile Drivers'],\n",
       " ['sddb', 'Sudden Cardiac Death Holter Database'],\n",
       " ['twadb', 'T-Wave Alternans Challenge Database'],\n",
       " ['taichidb', 'Tai Chi, Physiological Complexity, and Healthy Aging - Gait'],\n",
       " ['tpehgdb', 'Term-Preterm EHG Database'],\n",
       " ['tpehgt', 'Term-Preterm EHG DataSet with Tocogram (TPEHGT DS)'],\n",
       " ['ucddb', 'UCD Sleep Apnea Database'],\n",
       " ['unicaprop', 'UniCA ElectroTastegram Database (PROP)'],\n",
       " ['videopulse', 'Video Pulse Signals in Stationary and Motion Conditions'],\n",
       " ['voiced', 'VOice ICar fEDerico II Database'],\n",
       " ['wrist', 'Wrist PPG During Exercise'],\n",
       " ['mimic2db', 'MIMIC II Waveform DB, v2 [deprecated, use v3]'],\n",
       " ['mimic2db/numerics',\n",
       "  'MIMIC II Waveform DB, v2 Numerics [deprecated, use v3]'],\n",
       " ['sleep-edf', 'Sleep-EDF Database, v1 [deprecated, use sleep-edfx]']]"
      ]
     },
     "metadata": {},
     "output_type": "display_data"
    }
   ],
   "source": [
    "# List of Physiobank Databases\n",
    "\n",
    "dbs = wfdb.get_dbs()\n",
    "display(dbs)"
   ]
  },
  {
   "cell_type": "code",
   "execution_count": null,
   "metadata": {},
   "outputs": [],
   "source": [
    "# Download all the WFDB records and annotations from a small Physiobank Database\n",
    "\n",
    "# Make a temporary download directory in your current working directory\n",
    "cwd = os.getcwd()\n",
    "dl_dir = os.path.join(cwd, 'tmp_dl_dir')\n",
    "\n",
    "# Download all the WFDB content\n",
    "wfdb.dl_database('ahadb', dl_dir=dl_dir)\n",
    "\n",
    "# Display the downloaded content in the folder\n",
    "display(os.listdir(dl_dir))\n",
    "\n",
    "# Cleanup: delete the downloaded directory\n",
    "# shutil.rmtree(dl_dir)"
   ]
  },
  {
   "cell_type": "code",
   "execution_count": null,
   "metadata": {},
   "outputs": [],
   "source": [
    "# Download specified files from a Physiobank database\n",
    "\n",
    "# The files to download\n",
    "file_list = ['STAFF-Studies-bibliography-2016.pdf', 'data/001a.hea', 'data/001a.dat', 'data/001b.hea', 'data/001b.dat']\n",
    "\n",
    "# Make a temporary download directory in your current working directory\n",
    "cwd = os.getcwd()\n",
    "dl_dir = os.path.join(cwd, 'tmp_dl_dir')\n",
    "\n",
    "# Download the listed files\n",
    "wfdb.dl_files('staffiii', dl_dir, file_list)\n",
    "\n",
    "# Display the downloaded content in the folder\n",
    "display(os.listdir(dl_dir))\n",
    "display(os.listdir(os.path.join(dl_dir, 'data')))\n",
    "\n",
    "# Cleanup: delete the downloaded directory\n",
    "# shutil.rmtree(dl_dir)"
   ]
  }
 ],
 "metadata": {
  "kernelspec": {
   "display_name": "Python 3",
   "language": "python",
   "name": "python3"
  },
  "language_info": {
   "codemirror_mode": {
    "name": "ipython",
    "version": 3
   },
   "file_extension": ".py",
   "mimetype": "text/x-python",
   "name": "python",
   "nbconvert_exporter": "python",
   "pygments_lexer": "ipython3",
   "version": "3.7.3"
  }
 },
 "nbformat": 4,
 "nbformat_minor": 1
}
