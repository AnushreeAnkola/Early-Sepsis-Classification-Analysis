{
 "cells": [
  {
   "cell_type": "markdown",
   "metadata": {},
   "source": [
    "### Import Packages"
   ]
  },
  {
   "cell_type": "code",
   "execution_count": 1,
   "metadata": {
    "scrolled": true
   },
   "outputs": [],
   "source": [
    "import pandas as pd\n",
    "import numpy as np\n",
    "from sklearn.pipeline import Pipeline\n",
    "from sklearn.pipeline import make_pipeline\n",
    "from sklearn.preprocessing import OneHotEncoder, StandardScaler, LabelEncoder\n",
    "from sklearn.impute import SimpleImputer\n",
    "from sklearn.linear_model import LogisticRegression\n",
    "from sklearn.svm import SVC\n",
    "from sklearn.neighbors import KNeighborsClassifier\n",
    "from sklearn.tree import DecisionTreeClassifier, export_graphviz\n",
    "from sklearn.compose import make_column_transformer, ColumnTransformer\n",
    "from sklearn.metrics import precision_score, accuracy_score, recall_score, \\\n",
    "average_precision_score, precision_recall_curve, confusion_matrix\n",
    "import seaborn as sns\n",
    "from subprocess import call\n",
    "from IPython.display import Image\n",
    "import warnings\n",
    "warnings.filterwarnings('ignore')"
   ]
  },
  {
   "cell_type": "code",
   "execution_count": 2,
   "metadata": {},
   "outputs": [],
   "source": [
    "import matplotlib.pyplot as plt\n",
    "%matplotlib inline\n",
    "plt.style.use('ggplot')\n",
    "from pandas.plotting import scatter_matrix"
   ]
  },
  {
   "cell_type": "markdown",
   "metadata": {},
   "source": [
    "### Reading Data with missing values less than 92 percent"
   ]
  },
  {
   "cell_type": "code",
   "execution_count": 3,
   "metadata": {},
   "outputs": [],
   "source": [
    "original_data = pd.read_csv('sepsis_data.psv', sep ='|')\n",
    "missing_data = original_data.isnull().sum()\n",
    "missing_percent = (missing_data/original_data.shape[0])*100\n",
    "refined_columns = list(missing_percent[missing_percent < 92].index)\n",
    "sepsis_data = original_data[refined_columns]"
   ]
  },
  {
   "cell_type": "markdown",
   "metadata": {},
   "source": [
    "### Making sure the data is read and saved correctly"
   ]
  },
  {
   "cell_type": "code",
   "execution_count": 4,
   "metadata": {},
   "outputs": [
    {
     "data": {
      "text/plain": [
       "['HR',\n",
       " 'O2Sat',\n",
       " 'Temp',\n",
       " 'SBP',\n",
       " 'MAP',\n",
       " 'DBP',\n",
       " 'Resp',\n",
       " 'FiO2',\n",
       " 'Glucose',\n",
       " 'Potassium',\n",
       " 'Hct',\n",
       " 'Age',\n",
       " 'Gender',\n",
       " 'Unit1',\n",
       " 'Unit2',\n",
       " 'HospAdmTime',\n",
       " 'ICULOS',\n",
       " 'SepsisLabel']"
      ]
     },
     "execution_count": 4,
     "metadata": {},
     "output_type": "execute_result"
    }
   ],
   "source": [
    "refined_columns"
   ]
  },
  {
   "cell_type": "code",
   "execution_count": 5,
   "metadata": {},
   "outputs": [
    {
     "data": {
      "text/html": [
       "<div>\n",
       "<style scoped>\n",
       "    .dataframe tbody tr th:only-of-type {\n",
       "        vertical-align: middle;\n",
       "    }\n",
       "\n",
       "    .dataframe tbody tr th {\n",
       "        vertical-align: top;\n",
       "    }\n",
       "\n",
       "    .dataframe thead th {\n",
       "        text-align: right;\n",
       "    }\n",
       "</style>\n",
       "<table border=\"1\" class=\"dataframe\">\n",
       "  <thead>\n",
       "    <tr style=\"text-align: right;\">\n",
       "      <th></th>\n",
       "      <th>HR</th>\n",
       "      <th>O2Sat</th>\n",
       "      <th>Temp</th>\n",
       "      <th>SBP</th>\n",
       "      <th>MAP</th>\n",
       "      <th>DBP</th>\n",
       "      <th>Resp</th>\n",
       "      <th>FiO2</th>\n",
       "      <th>Glucose</th>\n",
       "      <th>Potassium</th>\n",
       "      <th>Hct</th>\n",
       "      <th>Age</th>\n",
       "      <th>Gender</th>\n",
       "      <th>Unit1</th>\n",
       "      <th>Unit2</th>\n",
       "      <th>HospAdmTime</th>\n",
       "      <th>ICULOS</th>\n",
       "      <th>SepsisLabel</th>\n",
       "    </tr>\n",
       "  </thead>\n",
       "  <tbody>\n",
       "    <tr>\n",
       "      <td>0</td>\n",
       "      <td>NaN</td>\n",
       "      <td>NaN</td>\n",
       "      <td>NaN</td>\n",
       "      <td>NaN</td>\n",
       "      <td>NaN</td>\n",
       "      <td>NaN</td>\n",
       "      <td>NaN</td>\n",
       "      <td>NaN</td>\n",
       "      <td>NaN</td>\n",
       "      <td>NaN</td>\n",
       "      <td>NaN</td>\n",
       "      <td>83.14</td>\n",
       "      <td>0</td>\n",
       "      <td>NaN</td>\n",
       "      <td>NaN</td>\n",
       "      <td>-0.03</td>\n",
       "      <td>1</td>\n",
       "      <td>0</td>\n",
       "    </tr>\n",
       "    <tr>\n",
       "      <td>1</td>\n",
       "      <td>97.0</td>\n",
       "      <td>95.0</td>\n",
       "      <td>NaN</td>\n",
       "      <td>98.0</td>\n",
       "      <td>75.33</td>\n",
       "      <td>NaN</td>\n",
       "      <td>19.0</td>\n",
       "      <td>NaN</td>\n",
       "      <td>NaN</td>\n",
       "      <td>NaN</td>\n",
       "      <td>NaN</td>\n",
       "      <td>83.14</td>\n",
       "      <td>0</td>\n",
       "      <td>NaN</td>\n",
       "      <td>NaN</td>\n",
       "      <td>-0.03</td>\n",
       "      <td>2</td>\n",
       "      <td>0</td>\n",
       "    </tr>\n",
       "    <tr>\n",
       "      <td>2</td>\n",
       "      <td>89.0</td>\n",
       "      <td>99.0</td>\n",
       "      <td>NaN</td>\n",
       "      <td>122.0</td>\n",
       "      <td>86.00</td>\n",
       "      <td>NaN</td>\n",
       "      <td>22.0</td>\n",
       "      <td>NaN</td>\n",
       "      <td>NaN</td>\n",
       "      <td>NaN</td>\n",
       "      <td>NaN</td>\n",
       "      <td>83.14</td>\n",
       "      <td>0</td>\n",
       "      <td>NaN</td>\n",
       "      <td>NaN</td>\n",
       "      <td>-0.03</td>\n",
       "      <td>3</td>\n",
       "      <td>0</td>\n",
       "    </tr>\n",
       "    <tr>\n",
       "      <td>3</td>\n",
       "      <td>90.0</td>\n",
       "      <td>95.0</td>\n",
       "      <td>NaN</td>\n",
       "      <td>NaN</td>\n",
       "      <td>NaN</td>\n",
       "      <td>NaN</td>\n",
       "      <td>30.0</td>\n",
       "      <td>NaN</td>\n",
       "      <td>NaN</td>\n",
       "      <td>NaN</td>\n",
       "      <td>NaN</td>\n",
       "      <td>83.14</td>\n",
       "      <td>0</td>\n",
       "      <td>NaN</td>\n",
       "      <td>NaN</td>\n",
       "      <td>-0.03</td>\n",
       "      <td>4</td>\n",
       "      <td>0</td>\n",
       "    </tr>\n",
       "    <tr>\n",
       "      <td>4</td>\n",
       "      <td>103.0</td>\n",
       "      <td>88.5</td>\n",
       "      <td>NaN</td>\n",
       "      <td>122.0</td>\n",
       "      <td>91.33</td>\n",
       "      <td>NaN</td>\n",
       "      <td>24.5</td>\n",
       "      <td>0.28</td>\n",
       "      <td>NaN</td>\n",
       "      <td>NaN</td>\n",
       "      <td>NaN</td>\n",
       "      <td>83.14</td>\n",
       "      <td>0</td>\n",
       "      <td>NaN</td>\n",
       "      <td>NaN</td>\n",
       "      <td>-0.03</td>\n",
       "      <td>5</td>\n",
       "      <td>0</td>\n",
       "    </tr>\n",
       "  </tbody>\n",
       "</table>\n",
       "</div>"
      ],
      "text/plain": [
       "      HR  O2Sat  Temp    SBP    MAP  DBP  Resp  FiO2  Glucose  Potassium  Hct  \\\n",
       "0    NaN    NaN   NaN    NaN    NaN  NaN   NaN   NaN      NaN        NaN  NaN   \n",
       "1   97.0   95.0   NaN   98.0  75.33  NaN  19.0   NaN      NaN        NaN  NaN   \n",
       "2   89.0   99.0   NaN  122.0  86.00  NaN  22.0   NaN      NaN        NaN  NaN   \n",
       "3   90.0   95.0   NaN    NaN    NaN  NaN  30.0   NaN      NaN        NaN  NaN   \n",
       "4  103.0   88.5   NaN  122.0  91.33  NaN  24.5  0.28      NaN        NaN  NaN   \n",
       "\n",
       "     Age  Gender  Unit1  Unit2  HospAdmTime  ICULOS  SepsisLabel  \n",
       "0  83.14       0    NaN    NaN        -0.03       1            0  \n",
       "1  83.14       0    NaN    NaN        -0.03       2            0  \n",
       "2  83.14       0    NaN    NaN        -0.03       3            0  \n",
       "3  83.14       0    NaN    NaN        -0.03       4            0  \n",
       "4  83.14       0    NaN    NaN        -0.03       5            0  "
      ]
     },
     "execution_count": 5,
     "metadata": {},
     "output_type": "execute_result"
    }
   ],
   "source": [
    "sepsis_data.head()"
   ]
  },
  {
   "cell_type": "code",
   "execution_count": 6,
   "metadata": {},
   "outputs": [
    {
     "data": {
      "text/html": [
       "<div>\n",
       "<style scoped>\n",
       "    .dataframe tbody tr th:only-of-type {\n",
       "        vertical-align: middle;\n",
       "    }\n",
       "\n",
       "    .dataframe tbody tr th {\n",
       "        vertical-align: top;\n",
       "    }\n",
       "\n",
       "    .dataframe thead th {\n",
       "        text-align: right;\n",
       "    }\n",
       "</style>\n",
       "<table border=\"1\" class=\"dataframe\">\n",
       "  <thead>\n",
       "    <tr style=\"text-align: right;\">\n",
       "      <th></th>\n",
       "      <th>HR</th>\n",
       "      <th>O2Sat</th>\n",
       "      <th>Temp</th>\n",
       "      <th>SBP</th>\n",
       "      <th>MAP</th>\n",
       "      <th>DBP</th>\n",
       "      <th>Resp</th>\n",
       "      <th>FiO2</th>\n",
       "      <th>Glucose</th>\n",
       "      <th>Potassium</th>\n",
       "      <th>Hct</th>\n",
       "      <th>Age</th>\n",
       "      <th>Gender</th>\n",
       "      <th>Unit1</th>\n",
       "      <th>Unit2</th>\n",
       "      <th>HospAdmTime</th>\n",
       "      <th>ICULOS</th>\n",
       "      <th>SepsisLabel</th>\n",
       "    </tr>\n",
       "  </thead>\n",
       "  <tbody>\n",
       "    <tr>\n",
       "      <td>count</td>\n",
       "      <td>1.231539e+06</td>\n",
       "      <td>1.185996e+06</td>\n",
       "      <td>459082.000000</td>\n",
       "      <td>1.161992e+06</td>\n",
       "      <td>1.196538e+06</td>\n",
       "      <td>901712.000000</td>\n",
       "      <td>1.163629e+06</td>\n",
       "      <td>124902.000000</td>\n",
       "      <td>222899.000000</td>\n",
       "      <td>129727.000000</td>\n",
       "      <td>126322.000000</td>\n",
       "      <td>1.361672e+06</td>\n",
       "      <td>1.361672e+06</td>\n",
       "      <td>806409.000000</td>\n",
       "      <td>806409.000000</td>\n",
       "      <td>1.361664e+06</td>\n",
       "      <td>1.361672e+06</td>\n",
       "      <td>1.361672e+06</td>\n",
       "    </tr>\n",
       "    <tr>\n",
       "      <td>mean</td>\n",
       "      <td>8.463807e+01</td>\n",
       "      <td>9.720677e+01</td>\n",
       "      <td>36.981409</td>\n",
       "      <td>1.233876e+02</td>\n",
       "      <td>8.187102e+01</td>\n",
       "      <td>63.398324</td>\n",
       "      <td>1.873328e+01</td>\n",
       "      <td>0.555864</td>\n",
       "      <td>136.638112</td>\n",
       "      <td>4.139130</td>\n",
       "      <td>30.767546</td>\n",
       "      <td>6.215126e+01</td>\n",
       "      <td>5.624284e-01</td>\n",
       "      <td>0.498618</td>\n",
       "      <td>0.501382</td>\n",
       "      <td>-5.522790e+01</td>\n",
       "      <td>2.707650e+01</td>\n",
       "      <td>1.837080e-02</td>\n",
       "    </tr>\n",
       "    <tr>\n",
       "      <td>std</td>\n",
       "      <td>1.728354e+01</td>\n",
       "      <td>2.941111e+00</td>\n",
       "      <td>0.770547</td>\n",
       "      <td>2.302735e+01</td>\n",
       "      <td>1.620716e+01</td>\n",
       "      <td>13.853230</td>\n",
       "      <td>5.149755e+00</td>\n",
       "      <td>11.320101</td>\n",
       "      <td>51.442553</td>\n",
       "      <td>0.639772</td>\n",
       "      <td>5.381143</td>\n",
       "      <td>1.635856e+01</td>\n",
       "      <td>4.960876e-01</td>\n",
       "      <td>0.499998</td>\n",
       "      <td>0.499998</td>\n",
       "      <td>1.634700e+02</td>\n",
       "      <td>2.913055e+01</td>\n",
       "      <td>1.342882e-01</td>\n",
       "    </tr>\n",
       "    <tr>\n",
       "      <td>min</td>\n",
       "      <td>2.000000e+01</td>\n",
       "      <td>2.000000e+01</td>\n",
       "      <td>20.900000</td>\n",
       "      <td>2.000000e+01</td>\n",
       "      <td>2.000000e+01</td>\n",
       "      <td>20.000000</td>\n",
       "      <td>1.000000e+00</td>\n",
       "      <td>-50.000000</td>\n",
       "      <td>10.000000</td>\n",
       "      <td>1.000000</td>\n",
       "      <td>5.500000</td>\n",
       "      <td>1.400000e+01</td>\n",
       "      <td>0.000000e+00</td>\n",
       "      <td>0.000000</td>\n",
       "      <td>0.000000</td>\n",
       "      <td>-5.366860e+03</td>\n",
       "      <td>1.000000e+00</td>\n",
       "      <td>0.000000e+00</td>\n",
       "    </tr>\n",
       "    <tr>\n",
       "      <td>25%</td>\n",
       "      <td>7.200000e+01</td>\n",
       "      <td>9.600000e+01</td>\n",
       "      <td>36.500000</td>\n",
       "      <td>1.065000e+02</td>\n",
       "      <td>7.050000e+01</td>\n",
       "      <td>54.000000</td>\n",
       "      <td>1.500000e+01</td>\n",
       "      <td>0.400000</td>\n",
       "      <td>106.000000</td>\n",
       "      <td>3.700000</td>\n",
       "      <td>27.100000</td>\n",
       "      <td>5.200000e+01</td>\n",
       "      <td>0.000000e+00</td>\n",
       "      <td>0.000000</td>\n",
       "      <td>0.000000</td>\n",
       "      <td>-4.489000e+01</td>\n",
       "      <td>1.100000e+01</td>\n",
       "      <td>0.000000e+00</td>\n",
       "    </tr>\n",
       "    <tr>\n",
       "      <td>50%</td>\n",
       "      <td>8.350000e+01</td>\n",
       "      <td>9.800000e+01</td>\n",
       "      <td>37.000000</td>\n",
       "      <td>1.210000e+02</td>\n",
       "      <td>8.000000e+01</td>\n",
       "      <td>62.000000</td>\n",
       "      <td>1.800000e+01</td>\n",
       "      <td>0.500000</td>\n",
       "      <td>126.000000</td>\n",
       "      <td>4.100000</td>\n",
       "      <td>30.250000</td>\n",
       "      <td>6.400000e+01</td>\n",
       "      <td>1.000000e+00</td>\n",
       "      <td>0.000000</td>\n",
       "      <td>1.000000</td>\n",
       "      <td>-5.500000e+00</td>\n",
       "      <td>2.100000e+01</td>\n",
       "      <td>0.000000e+00</td>\n",
       "    </tr>\n",
       "    <tr>\n",
       "      <td>75%</td>\n",
       "      <td>9.600000e+01</td>\n",
       "      <td>9.950000e+01</td>\n",
       "      <td>37.500000</td>\n",
       "      <td>1.380000e+02</td>\n",
       "      <td>9.100000e+01</td>\n",
       "      <td>71.000000</td>\n",
       "      <td>2.200000e+01</td>\n",
       "      <td>0.600000</td>\n",
       "      <td>153.000000</td>\n",
       "      <td>4.400000</td>\n",
       "      <td>34.000000</td>\n",
       "      <td>7.434000e+01</td>\n",
       "      <td>1.000000e+00</td>\n",
       "      <td>1.000000</td>\n",
       "      <td>1.000000</td>\n",
       "      <td>-3.000000e-02</td>\n",
       "      <td>3.400000e+01</td>\n",
       "      <td>0.000000e+00</td>\n",
       "    </tr>\n",
       "    <tr>\n",
       "      <td>max</td>\n",
       "      <td>2.800000e+02</td>\n",
       "      <td>1.000000e+02</td>\n",
       "      <td>50.000000</td>\n",
       "      <td>3.000000e+02</td>\n",
       "      <td>3.000000e+02</td>\n",
       "      <td>300.000000</td>\n",
       "      <td>1.000000e+02</td>\n",
       "      <td>4000.000000</td>\n",
       "      <td>988.000000</td>\n",
       "      <td>27.500000</td>\n",
       "      <td>71.700000</td>\n",
       "      <td>1.000000e+02</td>\n",
       "      <td>1.000000e+00</td>\n",
       "      <td>1.000000</td>\n",
       "      <td>1.000000</td>\n",
       "      <td>2.399000e+01</td>\n",
       "      <td>3.360000e+02</td>\n",
       "      <td>1.000000e+00</td>\n",
       "    </tr>\n",
       "  </tbody>\n",
       "</table>\n",
       "</div>"
      ],
      "text/plain": [
       "                 HR         O2Sat           Temp           SBP           MAP  \\\n",
       "count  1.231539e+06  1.185996e+06  459082.000000  1.161992e+06  1.196538e+06   \n",
       "mean   8.463807e+01  9.720677e+01      36.981409  1.233876e+02  8.187102e+01   \n",
       "std    1.728354e+01  2.941111e+00       0.770547  2.302735e+01  1.620716e+01   \n",
       "min    2.000000e+01  2.000000e+01      20.900000  2.000000e+01  2.000000e+01   \n",
       "25%    7.200000e+01  9.600000e+01      36.500000  1.065000e+02  7.050000e+01   \n",
       "50%    8.350000e+01  9.800000e+01      37.000000  1.210000e+02  8.000000e+01   \n",
       "75%    9.600000e+01  9.950000e+01      37.500000  1.380000e+02  9.100000e+01   \n",
       "max    2.800000e+02  1.000000e+02      50.000000  3.000000e+02  3.000000e+02   \n",
       "\n",
       "                 DBP          Resp           FiO2        Glucose  \\\n",
       "count  901712.000000  1.163629e+06  124902.000000  222899.000000   \n",
       "mean       63.398324  1.873328e+01       0.555864     136.638112   \n",
       "std        13.853230  5.149755e+00      11.320101      51.442553   \n",
       "min        20.000000  1.000000e+00     -50.000000      10.000000   \n",
       "25%        54.000000  1.500000e+01       0.400000     106.000000   \n",
       "50%        62.000000  1.800000e+01       0.500000     126.000000   \n",
       "75%        71.000000  2.200000e+01       0.600000     153.000000   \n",
       "max       300.000000  1.000000e+02    4000.000000     988.000000   \n",
       "\n",
       "           Potassium            Hct           Age        Gender  \\\n",
       "count  129727.000000  126322.000000  1.361672e+06  1.361672e+06   \n",
       "mean        4.139130      30.767546  6.215126e+01  5.624284e-01   \n",
       "std         0.639772       5.381143  1.635856e+01  4.960876e-01   \n",
       "min         1.000000       5.500000  1.400000e+01  0.000000e+00   \n",
       "25%         3.700000      27.100000  5.200000e+01  0.000000e+00   \n",
       "50%         4.100000      30.250000  6.400000e+01  1.000000e+00   \n",
       "75%         4.400000      34.000000  7.434000e+01  1.000000e+00   \n",
       "max        27.500000      71.700000  1.000000e+02  1.000000e+00   \n",
       "\n",
       "               Unit1          Unit2   HospAdmTime        ICULOS   SepsisLabel  \n",
       "count  806409.000000  806409.000000  1.361664e+06  1.361672e+06  1.361672e+06  \n",
       "mean        0.498618       0.501382 -5.522790e+01  2.707650e+01  1.837080e-02  \n",
       "std         0.499998       0.499998  1.634700e+02  2.913055e+01  1.342882e-01  \n",
       "min         0.000000       0.000000 -5.366860e+03  1.000000e+00  0.000000e+00  \n",
       "25%         0.000000       0.000000 -4.489000e+01  1.100000e+01  0.000000e+00  \n",
       "50%         0.000000       1.000000 -5.500000e+00  2.100000e+01  0.000000e+00  \n",
       "75%         1.000000       1.000000 -3.000000e-02  3.400000e+01  0.000000e+00  \n",
       "max         1.000000       1.000000  2.399000e+01  3.360000e+02  1.000000e+00  "
      ]
     },
     "execution_count": 6,
     "metadata": {},
     "output_type": "execute_result"
    }
   ],
   "source": [
    "sepsis_data.describe()"
   ]
  },
  {
   "cell_type": "code",
   "execution_count": 7,
   "metadata": {},
   "outputs": [],
   "source": [
    "sepsis_data.isnull().sum()\n",
    "sepsis_data = sepsis_data.dropna(subset=['HospAdmTime'])"
   ]
  },
  {
   "cell_type": "code",
   "execution_count": 8,
   "metadata": {},
   "outputs": [
    {
     "data": {
      "text/plain": [
       "20.0"
      ]
     },
     "execution_count": 8,
     "metadata": {},
     "output_type": "execute_result"
    }
   ],
   "source": [
    "sepsis_data['O2Sat'].min()"
   ]
  },
  {
   "cell_type": "code",
   "execution_count": 9,
   "metadata": {},
   "outputs": [],
   "source": [
    "sepsis_data_test = pd.read_csv('sepsis_data_test.psv', sep='|')"
   ]
  },
  {
   "cell_type": "code",
   "execution_count": 10,
   "metadata": {},
   "outputs": [
    {
     "data": {
      "text/html": [
       "<div>\n",
       "<style scoped>\n",
       "    .dataframe tbody tr th:only-of-type {\n",
       "        vertical-align: middle;\n",
       "    }\n",
       "\n",
       "    .dataframe tbody tr th {\n",
       "        vertical-align: top;\n",
       "    }\n",
       "\n",
       "    .dataframe thead th {\n",
       "        text-align: right;\n",
       "    }\n",
       "</style>\n",
       "<table border=\"1\" class=\"dataframe\">\n",
       "  <thead>\n",
       "    <tr style=\"text-align: right;\">\n",
       "      <th></th>\n",
       "      <th>HR</th>\n",
       "      <th>O2Sat</th>\n",
       "      <th>Temp</th>\n",
       "      <th>SBP</th>\n",
       "      <th>MAP</th>\n",
       "      <th>DBP</th>\n",
       "      <th>Resp</th>\n",
       "      <th>EtCO2</th>\n",
       "      <th>BaseExcess</th>\n",
       "      <th>HCO3</th>\n",
       "      <th>...</th>\n",
       "      <th>WBC</th>\n",
       "      <th>Fibrinogen</th>\n",
       "      <th>Platelets</th>\n",
       "      <th>Age</th>\n",
       "      <th>Gender</th>\n",
       "      <th>Unit1</th>\n",
       "      <th>Unit2</th>\n",
       "      <th>HospAdmTime</th>\n",
       "      <th>ICULOS</th>\n",
       "      <th>SepsisLabel</th>\n",
       "    </tr>\n",
       "  </thead>\n",
       "  <tbody>\n",
       "    <tr>\n",
       "      <td>count</td>\n",
       "      <td>167343.000000</td>\n",
       "      <td>163544.000000</td>\n",
       "      <td>66161.000000</td>\n",
       "      <td>164017.000000</td>\n",
       "      <td>162466.000000</td>\n",
       "      <td>163966.000000</td>\n",
       "      <td>150313.000000</td>\n",
       "      <td>15165.000000</td>\n",
       "      <td>478.000000</td>\n",
       "      <td>359.000000</td>\n",
       "      <td>...</td>\n",
       "      <td>9988.000000</td>\n",
       "      <td>1075.000000</td>\n",
       "      <td>10149.000000</td>\n",
       "      <td>190615.000000</td>\n",
       "      <td>190615.000000</td>\n",
       "      <td>133841.000000</td>\n",
       "      <td>133841.000000</td>\n",
       "      <td>190615.000000</td>\n",
       "      <td>190615.000000</td>\n",
       "      <td>190615.000000</td>\n",
       "    </tr>\n",
       "    <tr>\n",
       "      <td>mean</td>\n",
       "      <td>84.166628</td>\n",
       "      <td>97.099233</td>\n",
       "      <td>36.948108</td>\n",
       "      <td>126.324189</td>\n",
       "      <td>86.299441</td>\n",
       "      <td>66.208423</td>\n",
       "      <td>18.675607</td>\n",
       "      <td>33.113848</td>\n",
       "      <td>-2.303556</td>\n",
       "      <td>23.903900</td>\n",
       "      <td>...</td>\n",
       "      <td>10.836399</td>\n",
       "      <td>284.346512</td>\n",
       "      <td>189.602572</td>\n",
       "      <td>61.004008</td>\n",
       "      <td>0.536595</td>\n",
       "      <td>0.484239</td>\n",
       "      <td>0.515761</td>\n",
       "      <td>-62.517086</td>\n",
       "      <td>26.411096</td>\n",
       "      <td>0.015219</td>\n",
       "    </tr>\n",
       "    <tr>\n",
       "      <td>std</td>\n",
       "      <td>17.625333</td>\n",
       "      <td>2.906194</td>\n",
       "      <td>0.765649</td>\n",
       "      <td>24.475479</td>\n",
       "      <td>16.795645</td>\n",
       "      <td>14.275852</td>\n",
       "      <td>4.680407</td>\n",
       "      <td>7.782494</td>\n",
       "      <td>4.336779</td>\n",
       "      <td>3.171466</td>\n",
       "      <td>...</td>\n",
       "      <td>9.168976</td>\n",
       "      <td>138.763003</td>\n",
       "      <td>95.043849</td>\n",
       "      <td>16.548700</td>\n",
       "      <td>0.498660</td>\n",
       "      <td>0.499753</td>\n",
       "      <td>0.499753</td>\n",
       "      <td>153.128765</td>\n",
       "      <td>28.084256</td>\n",
       "      <td>0.122424</td>\n",
       "    </tr>\n",
       "    <tr>\n",
       "      <td>min</td>\n",
       "      <td>21.000000</td>\n",
       "      <td>20.000000</td>\n",
       "      <td>30.400000</td>\n",
       "      <td>22.000000</td>\n",
       "      <td>30.000000</td>\n",
       "      <td>20.000000</td>\n",
       "      <td>1.000000</td>\n",
       "      <td>10.000000</td>\n",
       "      <td>-18.250000</td>\n",
       "      <td>12.600000</td>\n",
       "      <td>...</td>\n",
       "      <td>0.100000</td>\n",
       "      <td>35.000000</td>\n",
       "      <td>1.000000</td>\n",
       "      <td>14.000000</td>\n",
       "      <td>0.000000</td>\n",
       "      <td>0.000000</td>\n",
       "      <td>0.000000</td>\n",
       "      <td>-3397.640000</td>\n",
       "      <td>1.000000</td>\n",
       "      <td>0.000000</td>\n",
       "    </tr>\n",
       "    <tr>\n",
       "      <td>25%</td>\n",
       "      <td>71.500000</td>\n",
       "      <td>96.000000</td>\n",
       "      <td>36.500000</td>\n",
       "      <td>108.000000</td>\n",
       "      <td>74.000000</td>\n",
       "      <td>56.000000</td>\n",
       "      <td>16.000000</td>\n",
       "      <td>29.000000</td>\n",
       "      <td>-4.400000</td>\n",
       "      <td>22.000000</td>\n",
       "      <td>...</td>\n",
       "      <td>7.100000</td>\n",
       "      <td>187.000000</td>\n",
       "      <td>126.000000</td>\n",
       "      <td>50.000000</td>\n",
       "      <td>0.000000</td>\n",
       "      <td>0.000000</td>\n",
       "      <td>0.000000</td>\n",
       "      <td>-66.670000</td>\n",
       "      <td>10.000000</td>\n",
       "      <td>0.000000</td>\n",
       "    </tr>\n",
       "    <tr>\n",
       "      <td>50%</td>\n",
       "      <td>83.000000</td>\n",
       "      <td>98.000000</td>\n",
       "      <td>36.900000</td>\n",
       "      <td>124.000000</td>\n",
       "      <td>84.000000</td>\n",
       "      <td>64.000000</td>\n",
       "      <td>18.000000</td>\n",
       "      <td>33.500000</td>\n",
       "      <td>-1.975000</td>\n",
       "      <td>23.800000</td>\n",
       "      <td>...</td>\n",
       "      <td>9.600000</td>\n",
       "      <td>260.000000</td>\n",
       "      <td>178.000000</td>\n",
       "      <td>62.000000</td>\n",
       "      <td>1.000000</td>\n",
       "      <td>0.000000</td>\n",
       "      <td>1.000000</td>\n",
       "      <td>-9.430000</td>\n",
       "      <td>20.000000</td>\n",
       "      <td>0.000000</td>\n",
       "    </tr>\n",
       "    <tr>\n",
       "      <td>75%</td>\n",
       "      <td>95.000000</td>\n",
       "      <td>99.000000</td>\n",
       "      <td>37.400000</td>\n",
       "      <td>142.000000</td>\n",
       "      <td>96.000000</td>\n",
       "      <td>74.000000</td>\n",
       "      <td>21.000000</td>\n",
       "      <td>38.000000</td>\n",
       "      <td>0.300000</td>\n",
       "      <td>25.550000</td>\n",
       "      <td>...</td>\n",
       "      <td>12.900000</td>\n",
       "      <td>348.000000</td>\n",
       "      <td>237.000000</td>\n",
       "      <td>73.000000</td>\n",
       "      <td>1.000000</td>\n",
       "      <td>1.000000</td>\n",
       "      <td>1.000000</td>\n",
       "      <td>-3.230000</td>\n",
       "      <td>34.000000</td>\n",
       "      <td>0.000000</td>\n",
       "    </tr>\n",
       "    <tr>\n",
       "      <td>max</td>\n",
       "      <td>191.000000</td>\n",
       "      <td>100.000000</td>\n",
       "      <td>41.800000</td>\n",
       "      <td>296.000000</td>\n",
       "      <td>300.000000</td>\n",
       "      <td>296.000000</td>\n",
       "      <td>99.000000</td>\n",
       "      <td>100.000000</td>\n",
       "      <td>11.100000</td>\n",
       "      <td>36.400000</td>\n",
       "      <td>...</td>\n",
       "      <td>387.000000</td>\n",
       "      <td>1000.000000</td>\n",
       "      <td>1140.000000</td>\n",
       "      <td>100.000000</td>\n",
       "      <td>1.000000</td>\n",
       "      <td>1.000000</td>\n",
       "      <td>1.000000</td>\n",
       "      <td>0.000000</td>\n",
       "      <td>336.000000</td>\n",
       "      <td>1.000000</td>\n",
       "    </tr>\n",
       "  </tbody>\n",
       "</table>\n",
       "<p>8 rows × 41 columns</p>\n",
       "</div>"
      ],
      "text/plain": [
       "                  HR          O2Sat          Temp            SBP  \\\n",
       "count  167343.000000  163544.000000  66161.000000  164017.000000   \n",
       "mean       84.166628      97.099233     36.948108     126.324189   \n",
       "std        17.625333       2.906194      0.765649      24.475479   \n",
       "min        21.000000      20.000000     30.400000      22.000000   \n",
       "25%        71.500000      96.000000     36.500000     108.000000   \n",
       "50%        83.000000      98.000000     36.900000     124.000000   \n",
       "75%        95.000000      99.000000     37.400000     142.000000   \n",
       "max       191.000000     100.000000     41.800000     296.000000   \n",
       "\n",
       "                 MAP            DBP           Resp         EtCO2  BaseExcess  \\\n",
       "count  162466.000000  163966.000000  150313.000000  15165.000000  478.000000   \n",
       "mean       86.299441      66.208423      18.675607     33.113848   -2.303556   \n",
       "std        16.795645      14.275852       4.680407      7.782494    4.336779   \n",
       "min        30.000000      20.000000       1.000000     10.000000  -18.250000   \n",
       "25%        74.000000      56.000000      16.000000     29.000000   -4.400000   \n",
       "50%        84.000000      64.000000      18.000000     33.500000   -1.975000   \n",
       "75%        96.000000      74.000000      21.000000     38.000000    0.300000   \n",
       "max       300.000000     296.000000      99.000000    100.000000   11.100000   \n",
       "\n",
       "             HCO3  ...          WBC   Fibrinogen     Platelets            Age  \\\n",
       "count  359.000000  ...  9988.000000  1075.000000  10149.000000  190615.000000   \n",
       "mean    23.903900  ...    10.836399   284.346512    189.602572      61.004008   \n",
       "std      3.171466  ...     9.168976   138.763003     95.043849      16.548700   \n",
       "min     12.600000  ...     0.100000    35.000000      1.000000      14.000000   \n",
       "25%     22.000000  ...     7.100000   187.000000    126.000000      50.000000   \n",
       "50%     23.800000  ...     9.600000   260.000000    178.000000      62.000000   \n",
       "75%     25.550000  ...    12.900000   348.000000    237.000000      73.000000   \n",
       "max     36.400000  ...   387.000000  1000.000000   1140.000000     100.000000   \n",
       "\n",
       "              Gender          Unit1          Unit2    HospAdmTime  \\\n",
       "count  190615.000000  133841.000000  133841.000000  190615.000000   \n",
       "mean        0.536595       0.484239       0.515761     -62.517086   \n",
       "std         0.498660       0.499753       0.499753     153.128765   \n",
       "min         0.000000       0.000000       0.000000   -3397.640000   \n",
       "25%         0.000000       0.000000       0.000000     -66.670000   \n",
       "50%         1.000000       0.000000       1.000000      -9.430000   \n",
       "75%         1.000000       1.000000       1.000000      -3.230000   \n",
       "max         1.000000       1.000000       1.000000       0.000000   \n",
       "\n",
       "              ICULOS    SepsisLabel  \n",
       "count  190615.000000  190615.000000  \n",
       "mean       26.411096       0.015219  \n",
       "std        28.084256       0.122424  \n",
       "min         1.000000       0.000000  \n",
       "25%        10.000000       0.000000  \n",
       "50%        20.000000       0.000000  \n",
       "75%        34.000000       0.000000  \n",
       "max       336.000000       1.000000  \n",
       "\n",
       "[8 rows x 41 columns]"
      ]
     },
     "execution_count": 10,
     "metadata": {},
     "output_type": "execute_result"
    }
   ],
   "source": [
    "sepsis_data_test.describe()"
   ]
  },
  {
   "cell_type": "code",
   "execution_count": null,
   "metadata": {},
   "outputs": [],
   "source": []
  },
  {
   "cell_type": "markdown",
   "metadata": {},
   "source": [
    "## Feature Engineering - Building newer features"
   ]
  },
  {
   "cell_type": "markdown",
   "metadata": {},
   "source": [
    "### 1.  Age\n",
    "Three categories - \n",
    "- Child - Age less than 10 year \n",
    "- Adult - Age more than 10 year and less than 60 years \n",
    "- Senior - Age more than 60 "
   ]
  },
  {
   "cell_type": "code",
   "execution_count": 11,
   "metadata": {},
   "outputs": [],
   "source": [
    "def fe_new_age(data):\n",
    "    data.loc[data['Age'] >=60, 'new_age'] = 'old'\n",
    "    data.loc[data['Age'] <10, 'new_age'] = 'infant'\n",
    "    data.loc[(data['Age'] >=10) & (data['Age'] <60), \n",
    "            'new_age'] = 'adult'\n",
    "    return data\n"
   ]
  },
  {
   "cell_type": "code",
   "execution_count": 12,
   "metadata": {},
   "outputs": [],
   "source": [
    "sepsis_data = fe_new_age(sepsis_data)"
   ]
  },
  {
   "cell_type": "code",
   "execution_count": 13,
   "metadata": {},
   "outputs": [],
   "source": [
    "sepsis_data_test = fe_new_age(sepsis_data_test)"
   ]
  },
  {
   "cell_type": "code",
   "execution_count": 14,
   "metadata": {},
   "outputs": [
    {
     "data": {
      "text/plain": [
       "0          False\n",
       "1          False\n",
       "2          False\n",
       "3          False\n",
       "4          False\n",
       "           ...  \n",
       "1361667    False\n",
       "1361668    False\n",
       "1361669    False\n",
       "1361670    False\n",
       "1361671    False\n",
       "Name: new_age, Length: 1361664, dtype: bool"
      ]
     },
     "execution_count": 14,
     "metadata": {},
     "output_type": "execute_result"
    }
   ],
   "source": [
    "sepsis_data['new_age'].isnull() "
   ]
  },
  {
   "cell_type": "markdown",
   "metadata": {},
   "source": [
    "### 2. Heart Rate \n",
    "The new feature designed for heart rate takes into account both Age and Heart Rate in a patient. It has three categories - normal, abnormal, missing\n",
    "\n",
    "- The 'normal' HR for a child (Age < 10) is in the range of 70 to 110 beats per minute. \n",
    "- The 'normal' HR for a adult and senior (Age 10+) is in the range of 60 to 100 \n",
    "- Any other values recorded is marked as 'abnormal'. \n",
    "- The value 'missing' is filled in place of null/nan values\n",
    "\n"
   ]
  },
  {
   "cell_type": "code",
   "execution_count": 15,
   "metadata": {},
   "outputs": [],
   "source": [
    "def fe_new_hr(data):\n",
    "    data.loc[(data['HR'] >= 70) & (data['HR'] < 110 ) & (data['Age'] < 10), 'new_hr'] = 'normal'\n",
    "    data.loc[(data['HR'] > 60) & (data['HR'] < 100) & data['Age'] >= 10, 'new_hr'] = 'normal'\n",
    "    data.loc[((data['HR'] < 70) | (data['Age'] >= 110)) & (data['Age']<10), 'new_hr'] = 'abnormal'\n",
    "    data.loc[(data['HR'] >= 100) & (data['Age'] >= 10), 'new_hr'] = 'abnormal'\n",
    "    data['new_hr'].fillna('Missing', inplace=True)\n",
    "    return data\n"
   ]
  },
  {
   "cell_type": "code",
   "execution_count": 16,
   "metadata": {},
   "outputs": [],
   "source": [
    "sepsis_data = fe_new_hr(sepsis_data)\n",
    "sepsis_data_test = fe_new_hr(sepsis_data_test)"
   ]
  },
  {
   "cell_type": "code",
   "execution_count": null,
   "metadata": {},
   "outputs": [],
   "source": []
  },
  {
   "cell_type": "markdown",
   "metadata": {},
   "source": [
    "### 3. O2Sat\n",
    "\n",
    "The blood oxygen level measured with an oximeter is called your oxygen saturation level. This is a percentage of how much oxygen your blood is carrying compared to the maximum it is capable of carrying.\n",
    "\n",
    "The new feature designed for pulse oximetry takes into three catogories\n",
    "- 'Normal' is found to be between 95% - 100% in healthy children and adults alike\n",
    "- 'Abnormal' is for anything otherwise \n",
    "- 'Missing' is a null or nan case is observed\n",
    "\n"
   ]
  },
  {
   "cell_type": "code",
   "execution_count": 17,
   "metadata": {},
   "outputs": [],
   "source": [
    "def fe_new_o2sat(data):\n",
    "    data.loc[(data['O2Sat'] >= 95) & (data['O2Sat'] < 100), 'new_o2sat'] = 'normal'\n",
    "    data.loc[(data['O2Sat'] < 95) & (data['O2Sat'] >= 0), 'new_o2sat'] = 'abnormal'\n",
    "    data['new_o2sat'].fillna('missing', inplace=True)\n",
    "    return data"
   ]
  },
  {
   "cell_type": "code",
   "execution_count": 18,
   "metadata": {},
   "outputs": [],
   "source": [
    "sepsis_data = fe_new_o2sat(sepsis_data)\n",
    "sepsis_data_test = fe_new_o2sat(sepsis_data_test)"
   ]
  },
  {
   "cell_type": "markdown",
   "metadata": {},
   "source": [
    "### 4. Temperature\n",
    "\n",
    "The new feature designed for temperature takes into three categories:\n",
    "\n",
    "- Body temperature for any healthy person (child, adult and senior alike) is 'normal' when found between 36 Deg C to 38 Dec C. \n",
    "- Anything above or below this range is labeled as 'abnormal'\n",
    "- 'Missing' is a null or nan case is observed"
   ]
  },
  {
   "cell_type": "code",
   "execution_count": 19,
   "metadata": {},
   "outputs": [],
   "source": [
    "def fe_new_temp(data):\n",
    "    data.loc[(data['Temp'] >= 36) & (data['Temp'] < 38),'new_temp'] = 'normal'\n",
    "    data.loc[(data['Temp'] < 36) | (data['Temp'] >= 38),'new_temp'] = 'abnormal'\n",
    "    data['new_temp'].fillna('Missing', inplace=True)\n",
    "    return data"
   ]
  },
  {
   "cell_type": "code",
   "execution_count": 20,
   "metadata": {},
   "outputs": [],
   "source": [
    "sepsis_data = fe_new_temp(sepsis_data)\n",
    "sepsis_data_test = fe_new_temp(sepsis_data_test)"
   ]
  },
  {
   "cell_type": "markdown",
   "metadata": {},
   "source": [
    "### 5. Blood Pressure\n",
    "\n",
    "We will be combining two forms of Blood Pressure here - Systolic blood pressure (SBP) and Diastolic Blood Pressure(DBP) in the dataset.\n",
    "\n",
    "- SBP - When your heart beats, it squeezes and pushes blood through your arteries to the rest of your body. This force creates pressure on those blood vessels, and that's your systolic blood pressure\n",
    "\n",
    "- DBP - The diastolic reading, or the bottom number, is the pressure in the arteries when the heart rests between beats. This is the time when the heart fills with blood and gets oxygen.\n",
    "\n",
    "- The new feature will compare the two BP and according to the below table categorize into four categories - low, normal, elevated and high, and missing \n",
    "\n",
    "<img src=\"Saved_Figures/BP.png\">\n"
   ]
  },
  {
   "cell_type": "code",
   "execution_count": 21,
   "metadata": {},
   "outputs": [],
   "source": [
    "def fe_new_bp(data):\n",
    "    data.loc[(data['SBP'] < 90) & (data['DBP'] < 60), 'new_bp'] = 'low'\n",
    "    data.loc[(data['SBP'].between(90,120, inclusive=True)) & (data['DBP'].between(60,80, inclusive=True)), 'new_bp'] = 'normal'\n",
    "    data.loc[(data['SBP'].between(120,140, inclusive=True)) & (data['DBP'].between(80,90, inclusive=True)),'new_bp'] = 'elevated'\n",
    "    data.loc[(data['SBP'] > 140 ) & (data['DBP'] > 90 ), 'new_bp'] = 'high'\n",
    "    data['new_bp'].fillna('Missing', inplace=True)\n",
    "    return data\n"
   ]
  },
  {
   "cell_type": "code",
   "execution_count": 22,
   "metadata": {},
   "outputs": [],
   "source": [
    "sepsis_data = fe_new_bp(sepsis_data)\n",
    "sepsis_data_test = fe_new_bp(sepsis_data_test)"
   ]
  },
  {
   "cell_type": "markdown",
   "metadata": {},
   "source": [
    "### 6. Respiration Rate \n",
    "\n",
    "The new feature designed will have 3 categories - normal, abnormal and missing. The normal respiratory rate for different age groups are as shown below:\n",
    "\n",
    "- For healthy adults (Age > 18) is between 12 and 20 breaths per minute.\n",
    "- Normal respiratory rates for children in breaths per minute are as follows:\n",
    "\n",
    "    - birth to 1 year: 30 to 60\n",
    "    - 1 to 3 years: 24 to 40\n",
    "    - 3 to 6 years: 22 to 34\n",
    "    - 6 to 12 years: 18 to 30\n",
    "    - 12 to 18 years: 12 to 16\n",
    "    \n",
    "- Any other range for respiratory rates are labeled as 'abnormal' and the missing values are labeled as 'missing'\n",
    "    "
   ]
  },
  {
   "cell_type": "code",
   "execution_count": 23,
   "metadata": {},
   "outputs": [],
   "source": [
    "def fe_new_resp(data):\n",
    "    data.loc[(data['Resp'].between(30, 60)) & (data['Age'] < 1), 'new_resp'] = 'normal'\n",
    "    data.loc[(data['Resp'].between(24, 40)) & (data['Age'].between(1, 3)), 'new_resp'] = 'normal'\n",
    "    data.loc[(data['Resp'].between(22, 34)) & (data['Age'].between(3, 6)), 'new_resp'] = 'normal'\n",
    "    data.loc[(data['Resp'].between(18, 30)) & (data['Age'].between(6, 12)), 'new_resp'] = 'normal'\n",
    "    data.loc[(data['Resp'].between(12, 16)) & (data['Age'].between(12, 18)), 'new_resp'] = 'normal'  \n",
    "    data.loc[(data['Resp'].between(12, 20)) & (data['Age'] > 18), 'new_resp'] = 'normal'  \n",
    "    \n",
    "    data.loc[((data['Resp'] < 30) | (data['Resp'] > 60)) & (data['Age'] <1) ,'new_resp'] = 'abnormal'   \n",
    "    data.loc[((data['Resp'] < 24) | (data['Resp'] > 40)) & (data['Age'].between(1, 3)) ,'new_resp'] = 'abnormal'   \n",
    "    data.loc[((data['Resp'] < 22) | (data['Resp'] > 34)) & (data['Age'].between(3, 6)) ,'new_resp'] = 'abnormal'\n",
    "    data.loc[((data['Resp'] < 18) | (data['Resp'] > 30)) & (data['Age'].between(6, 12)) ,'new_resp'] = 'abnormal'\n",
    "    data.loc[((data['Resp'] < 12) | (data['Resp'] > 16)) & (data['Age'].between(12, 18)) ,'new_resp'] = 'abnormal'\n",
    "    data.loc[((data['Resp'] < 12) | (data['Resp'] > 20)) & (data['Age'] > 18) ,'new_resp'] = 'abnormal'\n",
    "    \n",
    "    \n",
    "    data['new_resp'].fillna('missing', inplace = True)\n",
    "                                                            \n",
    "    return data\n",
    "    "
   ]
  },
  {
   "cell_type": "code",
   "execution_count": 24,
   "metadata": {},
   "outputs": [],
   "source": [
    "sepsis_data = fe_new_resp(sepsis_data)\n",
    "sepsis_data_test = fe_new_resp(sepsis_data_test)"
   ]
  },
  {
   "cell_type": "markdown",
   "metadata": {},
   "source": [
    "### 7. Mean Arterial Pressure\n",
    "\n",
    "https://emtprep.com/free-training/post/map-understanding-mean-arterial-pressure\n",
    "\n",
    "MAP is the measurement that explains the average blood pressure in a person's blood vessels during a single cardiac cycle. Mean arterial pressure is significant because it measures the pressure necessary for adequate perfusion of the organs of the body.\n",
    "\n",
    "The normal MAP range is between 70 and 100 mmHg.\n",
    " - High MAP can cause stress on the heart because it has to work harder than normal to push against the elevated pressure in the vessels.\n",
    " - When the MAP gets below 60, vital organs in the body do not get the nourishment they need for survival\n",
    " \n",
    " \n",
    "MAP is directly affected by factors such as:\n",
    "\n",
    "• Amount of blood pumped out of the heart per minute (cardiac output)\n",
    "\n",
    "• Heart rate (beats per minute)\n",
    "\n",
    "• Blood pressure\n",
    "\n",
    "• Resistance to blood flow in the vessels\n",
    "\n",
    "A change in any of these factors will alter the mean arterial pressure and cause negative effects on the body\n",
    "\n"
   ]
  },
  {
   "cell_type": "code",
   "execution_count": 25,
   "metadata": {},
   "outputs": [],
   "source": [
    "def fe_new_map(data):\n",
    "    data.loc[(data['MAP'] >= 70) & (data['MAP'] < 100),'new_map'] = 'normal'\n",
    "    data.loc[(data['MAP'] < 70) | (data['MAP'] >= 100),'new_map'] = 'abnormal'\n",
    "    data['new_map'].fillna('Missing', inplace=True)\n",
    "    return data"
   ]
  },
  {
   "cell_type": "code",
   "execution_count": 26,
   "metadata": {},
   "outputs": [],
   "source": [
    "sepsis_data = fe_new_map(sepsis_data)\n",
    "sepsis_data_test = fe_new_map(sepsis_data_test)"
   ]
  },
  {
   "cell_type": "markdown",
   "metadata": {},
   "source": [
    "### 8. Fraction of inspired oxygen\n",
    "\n",
    "The percentage of individual gases in air (oxygen, nitrogen, etc.) doesn't change with altitude, but the\n",
    "atmospheric (or barometric) pressure does. FIO2, the fraction of inspired oxygen in the air, is thus 21%\n",
    "(or .21) throughout the breathable atmosphere. \n"
   ]
  },
  {
   "cell_type": "code",
   "execution_count": 27,
   "metadata": {},
   "outputs": [],
   "source": [
    "def fe_new_fio2(data):\n",
    "    data.loc[(data['FiO2'] < 0.8 ) ,'new_fio2'] = 'normal'\n",
    "    data.loc[(data['FiO2'] >= 0.8 ),'new_fio2'] = 'abnormal'\n",
    "    data['new_fio2'].fillna('Missing', inplace=True)\n",
    "    return data"
   ]
  },
  {
   "cell_type": "code",
   "execution_count": 28,
   "metadata": {},
   "outputs": [],
   "source": [
    "sepsis_data = fe_new_fio2(sepsis_data)\n",
    "sepsis_data_test = fe_new_fio2(sepsis_data_test)"
   ]
  },
  {
   "cell_type": "code",
   "execution_count": null,
   "metadata": {},
   "outputs": [],
   "source": []
  },
  {
   "cell_type": "markdown",
   "metadata": {},
   "source": [
    "## Check if all the new columns are correct "
   ]
  },
  {
   "cell_type": "code",
   "execution_count": 29,
   "metadata": {},
   "outputs": [
    {
     "data": {
      "text/html": [
       "<div>\n",
       "<style scoped>\n",
       "    .dataframe tbody tr th:only-of-type {\n",
       "        vertical-align: middle;\n",
       "    }\n",
       "\n",
       "    .dataframe tbody tr th {\n",
       "        vertical-align: top;\n",
       "    }\n",
       "\n",
       "    .dataframe thead th {\n",
       "        text-align: right;\n",
       "    }\n",
       "</style>\n",
       "<table border=\"1\" class=\"dataframe\">\n",
       "  <thead>\n",
       "    <tr style=\"text-align: right;\">\n",
       "      <th></th>\n",
       "      <th>HR</th>\n",
       "      <th>O2Sat</th>\n",
       "      <th>Temp</th>\n",
       "      <th>SBP</th>\n",
       "      <th>MAP</th>\n",
       "      <th>DBP</th>\n",
       "      <th>Resp</th>\n",
       "      <th>FiO2</th>\n",
       "      <th>Glucose</th>\n",
       "      <th>Potassium</th>\n",
       "      <th>...</th>\n",
       "      <th>ICULOS</th>\n",
       "      <th>SepsisLabel</th>\n",
       "      <th>new_age</th>\n",
       "      <th>new_hr</th>\n",
       "      <th>new_o2sat</th>\n",
       "      <th>new_temp</th>\n",
       "      <th>new_bp</th>\n",
       "      <th>new_resp</th>\n",
       "      <th>new_map</th>\n",
       "      <th>new_fio2</th>\n",
       "    </tr>\n",
       "  </thead>\n",
       "  <tbody>\n",
       "    <tr>\n",
       "      <td>0</td>\n",
       "      <td>NaN</td>\n",
       "      <td>NaN</td>\n",
       "      <td>NaN</td>\n",
       "      <td>NaN</td>\n",
       "      <td>NaN</td>\n",
       "      <td>NaN</td>\n",
       "      <td>NaN</td>\n",
       "      <td>NaN</td>\n",
       "      <td>NaN</td>\n",
       "      <td>NaN</td>\n",
       "      <td>...</td>\n",
       "      <td>1</td>\n",
       "      <td>0</td>\n",
       "      <td>old</td>\n",
       "      <td>Missing</td>\n",
       "      <td>missing</td>\n",
       "      <td>Missing</td>\n",
       "      <td>Missing</td>\n",
       "      <td>missing</td>\n",
       "      <td>Missing</td>\n",
       "      <td>Missing</td>\n",
       "    </tr>\n",
       "    <tr>\n",
       "      <td>1</td>\n",
       "      <td>97.0</td>\n",
       "      <td>95.0</td>\n",
       "      <td>NaN</td>\n",
       "      <td>98.0</td>\n",
       "      <td>75.33</td>\n",
       "      <td>NaN</td>\n",
       "      <td>19.0</td>\n",
       "      <td>NaN</td>\n",
       "      <td>NaN</td>\n",
       "      <td>NaN</td>\n",
       "      <td>...</td>\n",
       "      <td>2</td>\n",
       "      <td>0</td>\n",
       "      <td>old</td>\n",
       "      <td>Missing</td>\n",
       "      <td>normal</td>\n",
       "      <td>Missing</td>\n",
       "      <td>Missing</td>\n",
       "      <td>normal</td>\n",
       "      <td>normal</td>\n",
       "      <td>Missing</td>\n",
       "    </tr>\n",
       "    <tr>\n",
       "      <td>2</td>\n",
       "      <td>89.0</td>\n",
       "      <td>99.0</td>\n",
       "      <td>NaN</td>\n",
       "      <td>122.0</td>\n",
       "      <td>86.00</td>\n",
       "      <td>NaN</td>\n",
       "      <td>22.0</td>\n",
       "      <td>NaN</td>\n",
       "      <td>NaN</td>\n",
       "      <td>NaN</td>\n",
       "      <td>...</td>\n",
       "      <td>3</td>\n",
       "      <td>0</td>\n",
       "      <td>old</td>\n",
       "      <td>Missing</td>\n",
       "      <td>normal</td>\n",
       "      <td>Missing</td>\n",
       "      <td>Missing</td>\n",
       "      <td>abnormal</td>\n",
       "      <td>normal</td>\n",
       "      <td>Missing</td>\n",
       "    </tr>\n",
       "    <tr>\n",
       "      <td>3</td>\n",
       "      <td>90.0</td>\n",
       "      <td>95.0</td>\n",
       "      <td>NaN</td>\n",
       "      <td>NaN</td>\n",
       "      <td>NaN</td>\n",
       "      <td>NaN</td>\n",
       "      <td>30.0</td>\n",
       "      <td>NaN</td>\n",
       "      <td>NaN</td>\n",
       "      <td>NaN</td>\n",
       "      <td>...</td>\n",
       "      <td>4</td>\n",
       "      <td>0</td>\n",
       "      <td>old</td>\n",
       "      <td>Missing</td>\n",
       "      <td>normal</td>\n",
       "      <td>Missing</td>\n",
       "      <td>Missing</td>\n",
       "      <td>abnormal</td>\n",
       "      <td>Missing</td>\n",
       "      <td>Missing</td>\n",
       "    </tr>\n",
       "    <tr>\n",
       "      <td>4</td>\n",
       "      <td>103.0</td>\n",
       "      <td>88.5</td>\n",
       "      <td>NaN</td>\n",
       "      <td>122.0</td>\n",
       "      <td>91.33</td>\n",
       "      <td>NaN</td>\n",
       "      <td>24.5</td>\n",
       "      <td>0.28</td>\n",
       "      <td>NaN</td>\n",
       "      <td>NaN</td>\n",
       "      <td>...</td>\n",
       "      <td>5</td>\n",
       "      <td>0</td>\n",
       "      <td>old</td>\n",
       "      <td>abnormal</td>\n",
       "      <td>abnormal</td>\n",
       "      <td>Missing</td>\n",
       "      <td>Missing</td>\n",
       "      <td>abnormal</td>\n",
       "      <td>normal</td>\n",
       "      <td>normal</td>\n",
       "    </tr>\n",
       "  </tbody>\n",
       "</table>\n",
       "<p>5 rows × 26 columns</p>\n",
       "</div>"
      ],
      "text/plain": [
       "      HR  O2Sat  Temp    SBP    MAP  DBP  Resp  FiO2  Glucose  Potassium  ...  \\\n",
       "0    NaN    NaN   NaN    NaN    NaN  NaN   NaN   NaN      NaN        NaN  ...   \n",
       "1   97.0   95.0   NaN   98.0  75.33  NaN  19.0   NaN      NaN        NaN  ...   \n",
       "2   89.0   99.0   NaN  122.0  86.00  NaN  22.0   NaN      NaN        NaN  ...   \n",
       "3   90.0   95.0   NaN    NaN    NaN  NaN  30.0   NaN      NaN        NaN  ...   \n",
       "4  103.0   88.5   NaN  122.0  91.33  NaN  24.5  0.28      NaN        NaN  ...   \n",
       "\n",
       "   ICULOS  SepsisLabel  new_age    new_hr  new_o2sat  new_temp   new_bp  \\\n",
       "0       1            0      old   Missing    missing   Missing  Missing   \n",
       "1       2            0      old   Missing     normal   Missing  Missing   \n",
       "2       3            0      old   Missing     normal   Missing  Missing   \n",
       "3       4            0      old   Missing     normal   Missing  Missing   \n",
       "4       5            0      old  abnormal   abnormal   Missing  Missing   \n",
       "\n",
       "   new_resp  new_map new_fio2  \n",
       "0   missing  Missing  Missing  \n",
       "1    normal   normal  Missing  \n",
       "2  abnormal   normal  Missing  \n",
       "3  abnormal  Missing  Missing  \n",
       "4  abnormal   normal   normal  \n",
       "\n",
       "[5 rows x 26 columns]"
      ]
     },
     "execution_count": 29,
     "metadata": {},
     "output_type": "execute_result"
    }
   ],
   "source": [
    "sepsis_data.head()"
   ]
  },
  {
   "cell_type": "code",
   "execution_count": 30,
   "metadata": {},
   "outputs": [
    {
     "data": {
      "text/html": [
       "<div>\n",
       "<style scoped>\n",
       "    .dataframe tbody tr th:only-of-type {\n",
       "        vertical-align: middle;\n",
       "    }\n",
       "\n",
       "    .dataframe tbody tr th {\n",
       "        vertical-align: top;\n",
       "    }\n",
       "\n",
       "    .dataframe thead th {\n",
       "        text-align: right;\n",
       "    }\n",
       "</style>\n",
       "<table border=\"1\" class=\"dataframe\">\n",
       "  <thead>\n",
       "    <tr style=\"text-align: right;\">\n",
       "      <th></th>\n",
       "      <th>HR</th>\n",
       "      <th>O2Sat</th>\n",
       "      <th>Temp</th>\n",
       "      <th>SBP</th>\n",
       "      <th>MAP</th>\n",
       "      <th>DBP</th>\n",
       "      <th>Resp</th>\n",
       "      <th>EtCO2</th>\n",
       "      <th>BaseExcess</th>\n",
       "      <th>HCO3</th>\n",
       "      <th>...</th>\n",
       "      <th>ICULOS</th>\n",
       "      <th>SepsisLabel</th>\n",
       "      <th>new_age</th>\n",
       "      <th>new_hr</th>\n",
       "      <th>new_o2sat</th>\n",
       "      <th>new_temp</th>\n",
       "      <th>new_bp</th>\n",
       "      <th>new_resp</th>\n",
       "      <th>new_map</th>\n",
       "      <th>new_fio2</th>\n",
       "    </tr>\n",
       "  </thead>\n",
       "  <tbody>\n",
       "    <tr>\n",
       "      <td>0</td>\n",
       "      <td>NaN</td>\n",
       "      <td>NaN</td>\n",
       "      <td>NaN</td>\n",
       "      <td>NaN</td>\n",
       "      <td>NaN</td>\n",
       "      <td>NaN</td>\n",
       "      <td>NaN</td>\n",
       "      <td>NaN</td>\n",
       "      <td>NaN</td>\n",
       "      <td>NaN</td>\n",
       "      <td>...</td>\n",
       "      <td>1</td>\n",
       "      <td>0</td>\n",
       "      <td>old</td>\n",
       "      <td>Missing</td>\n",
       "      <td>missing</td>\n",
       "      <td>Missing</td>\n",
       "      <td>Missing</td>\n",
       "      <td>missing</td>\n",
       "      <td>Missing</td>\n",
       "      <td>Missing</td>\n",
       "    </tr>\n",
       "    <tr>\n",
       "      <td>1</td>\n",
       "      <td>67.0</td>\n",
       "      <td>95.0</td>\n",
       "      <td>NaN</td>\n",
       "      <td>165.5</td>\n",
       "      <td>106.0</td>\n",
       "      <td>76.0</td>\n",
       "      <td>NaN</td>\n",
       "      <td>NaN</td>\n",
       "      <td>NaN</td>\n",
       "      <td>NaN</td>\n",
       "      <td>...</td>\n",
       "      <td>2</td>\n",
       "      <td>0</td>\n",
       "      <td>old</td>\n",
       "      <td>Missing</td>\n",
       "      <td>normal</td>\n",
       "      <td>Missing</td>\n",
       "      <td>Missing</td>\n",
       "      <td>missing</td>\n",
       "      <td>abnormal</td>\n",
       "      <td>Missing</td>\n",
       "    </tr>\n",
       "    <tr>\n",
       "      <td>2</td>\n",
       "      <td>62.0</td>\n",
       "      <td>95.0</td>\n",
       "      <td>36.0</td>\n",
       "      <td>161.0</td>\n",
       "      <td>104.0</td>\n",
       "      <td>75.0</td>\n",
       "      <td>NaN</td>\n",
       "      <td>NaN</td>\n",
       "      <td>NaN</td>\n",
       "      <td>NaN</td>\n",
       "      <td>...</td>\n",
       "      <td>3</td>\n",
       "      <td>0</td>\n",
       "      <td>old</td>\n",
       "      <td>Missing</td>\n",
       "      <td>normal</td>\n",
       "      <td>normal</td>\n",
       "      <td>Missing</td>\n",
       "      <td>missing</td>\n",
       "      <td>abnormal</td>\n",
       "      <td>Missing</td>\n",
       "    </tr>\n",
       "    <tr>\n",
       "      <td>3</td>\n",
       "      <td>68.0</td>\n",
       "      <td>96.0</td>\n",
       "      <td>NaN</td>\n",
       "      <td>155.5</td>\n",
       "      <td>101.5</td>\n",
       "      <td>73.5</td>\n",
       "      <td>NaN</td>\n",
       "      <td>NaN</td>\n",
       "      <td>NaN</td>\n",
       "      <td>NaN</td>\n",
       "      <td>...</td>\n",
       "      <td>4</td>\n",
       "      <td>0</td>\n",
       "      <td>old</td>\n",
       "      <td>Missing</td>\n",
       "      <td>normal</td>\n",
       "      <td>Missing</td>\n",
       "      <td>Missing</td>\n",
       "      <td>missing</td>\n",
       "      <td>abnormal</td>\n",
       "      <td>Missing</td>\n",
       "    </tr>\n",
       "    <tr>\n",
       "      <td>4</td>\n",
       "      <td>65.0</td>\n",
       "      <td>95.0</td>\n",
       "      <td>36.1</td>\n",
       "      <td>142.0</td>\n",
       "      <td>87.0</td>\n",
       "      <td>61.0</td>\n",
       "      <td>NaN</td>\n",
       "      <td>NaN</td>\n",
       "      <td>NaN</td>\n",
       "      <td>NaN</td>\n",
       "      <td>...</td>\n",
       "      <td>5</td>\n",
       "      <td>0</td>\n",
       "      <td>old</td>\n",
       "      <td>Missing</td>\n",
       "      <td>normal</td>\n",
       "      <td>normal</td>\n",
       "      <td>Missing</td>\n",
       "      <td>missing</td>\n",
       "      <td>normal</td>\n",
       "      <td>Missing</td>\n",
       "    </tr>\n",
       "  </tbody>\n",
       "</table>\n",
       "<p>5 rows × 49 columns</p>\n",
       "</div>"
      ],
      "text/plain": [
       "     HR  O2Sat  Temp    SBP    MAP   DBP  Resp  EtCO2  BaseExcess  HCO3  ...  \\\n",
       "0   NaN    NaN   NaN    NaN    NaN   NaN   NaN    NaN         NaN   NaN  ...   \n",
       "1  67.0   95.0   NaN  165.5  106.0  76.0   NaN    NaN         NaN   NaN  ...   \n",
       "2  62.0   95.0  36.0  161.0  104.0  75.0   NaN    NaN         NaN   NaN  ...   \n",
       "3  68.0   96.0   NaN  155.5  101.5  73.5   NaN    NaN         NaN   NaN  ...   \n",
       "4  65.0   95.0  36.1  142.0   87.0  61.0   NaN    NaN         NaN   NaN  ...   \n",
       "\n",
       "   ICULOS  SepsisLabel  new_age   new_hr  new_o2sat  new_temp   new_bp  \\\n",
       "0       1            0      old  Missing    missing   Missing  Missing   \n",
       "1       2            0      old  Missing     normal   Missing  Missing   \n",
       "2       3            0      old  Missing     normal    normal  Missing   \n",
       "3       4            0      old  Missing     normal   Missing  Missing   \n",
       "4       5            0      old  Missing     normal    normal  Missing   \n",
       "\n",
       "   new_resp   new_map  new_fio2  \n",
       "0   missing   Missing   Missing  \n",
       "1   missing  abnormal   Missing  \n",
       "2   missing  abnormal   Missing  \n",
       "3   missing  abnormal   Missing  \n",
       "4   missing    normal   Missing  \n",
       "\n",
       "[5 rows x 49 columns]"
      ]
     },
     "execution_count": 30,
     "metadata": {},
     "output_type": "execute_result"
    }
   ],
   "source": [
    "sepsis_data_test.head()"
   ]
  },
  {
   "cell_type": "code",
   "execution_count": null,
   "metadata": {},
   "outputs": [],
   "source": []
  },
  {
   "cell_type": "markdown",
   "metadata": {},
   "source": [
    "## Feature Selection - Selecting relevant features for prediction"
   ]
  },
  {
   "cell_type": "code",
   "execution_count": 31,
   "metadata": {},
   "outputs": [],
   "source": [
    "columns_new = ['Gender', 'new_age', 'new_o2sat', 'new_temp', 'new_bp', 'new_resp', 'new_map', 'new_fio2', 'new_hr', 'HospAdmTime', 'ICULOS']\n"
   ]
  },
  {
   "cell_type": "code",
   "execution_count": 32,
   "metadata": {},
   "outputs": [],
   "source": [
    "target_col = ['SepsisLabel']\n",
    "\n",
    "test_cols = columns_new + target_col\n"
   ]
  },
  {
   "cell_type": "code",
   "execution_count": 33,
   "metadata": {},
   "outputs": [],
   "source": [
    "all_data_train = sepsis_data[test_cols]\n",
    "all_data_test = sepsis_data_test[test_cols]"
   ]
  },
  {
   "cell_type": "code",
   "execution_count": 34,
   "metadata": {},
   "outputs": [
    {
     "name": "stdout",
     "output_type": "stream",
     "text": [
      "(1361664, 12)\n",
      "(190615, 12)\n"
     ]
    }
   ],
   "source": [
    "print(all_data_train.shape)\n",
    "print(all_data_test.shape)"
   ]
  },
  {
   "cell_type": "code",
   "execution_count": 35,
   "metadata": {},
   "outputs": [],
   "source": [
    "all_data_train_df = all_data_train.to_csv ('fe_train.csv', index = None, header=True) #Don't forget to add '.csv' at the end of the path\n",
    "all_data_test_df = all_data_test.to_csv ('fe_test.csv', index = None, header=True) #Don't forget to add '.csv' at the end of the path\n"
   ]
  },
  {
   "cell_type": "code",
   "execution_count": 36,
   "metadata": {},
   "outputs": [
    {
     "data": {
      "text/html": [
       "<div>\n",
       "<style scoped>\n",
       "    .dataframe tbody tr th:only-of-type {\n",
       "        vertical-align: middle;\n",
       "    }\n",
       "\n",
       "    .dataframe tbody tr th {\n",
       "        vertical-align: top;\n",
       "    }\n",
       "\n",
       "    .dataframe thead th {\n",
       "        text-align: right;\n",
       "    }\n",
       "</style>\n",
       "<table border=\"1\" class=\"dataframe\">\n",
       "  <thead>\n",
       "    <tr style=\"text-align: right;\">\n",
       "      <th></th>\n",
       "      <th>Gender</th>\n",
       "      <th>new_age</th>\n",
       "      <th>new_o2sat</th>\n",
       "      <th>new_temp</th>\n",
       "      <th>new_bp</th>\n",
       "      <th>new_resp</th>\n",
       "      <th>new_map</th>\n",
       "      <th>new_fio2</th>\n",
       "      <th>new_hr</th>\n",
       "      <th>HospAdmTime</th>\n",
       "      <th>ICULOS</th>\n",
       "      <th>SepsisLabel</th>\n",
       "    </tr>\n",
       "  </thead>\n",
       "  <tbody>\n",
       "    <tr>\n",
       "      <td>0</td>\n",
       "      <td>1</td>\n",
       "      <td>old</td>\n",
       "      <td>missing</td>\n",
       "      <td>Missing</td>\n",
       "      <td>Missing</td>\n",
       "      <td>missing</td>\n",
       "      <td>Missing</td>\n",
       "      <td>Missing</td>\n",
       "      <td>Missing</td>\n",
       "      <td>-43.69</td>\n",
       "      <td>1</td>\n",
       "      <td>0</td>\n",
       "    </tr>\n",
       "    <tr>\n",
       "      <td>1</td>\n",
       "      <td>1</td>\n",
       "      <td>old</td>\n",
       "      <td>normal</td>\n",
       "      <td>Missing</td>\n",
       "      <td>Missing</td>\n",
       "      <td>missing</td>\n",
       "      <td>abnormal</td>\n",
       "      <td>Missing</td>\n",
       "      <td>Missing</td>\n",
       "      <td>-43.69</td>\n",
       "      <td>2</td>\n",
       "      <td>0</td>\n",
       "    </tr>\n",
       "    <tr>\n",
       "      <td>2</td>\n",
       "      <td>1</td>\n",
       "      <td>old</td>\n",
       "      <td>normal</td>\n",
       "      <td>normal</td>\n",
       "      <td>Missing</td>\n",
       "      <td>missing</td>\n",
       "      <td>abnormal</td>\n",
       "      <td>Missing</td>\n",
       "      <td>Missing</td>\n",
       "      <td>-43.69</td>\n",
       "      <td>3</td>\n",
       "      <td>0</td>\n",
       "    </tr>\n",
       "    <tr>\n",
       "      <td>3</td>\n",
       "      <td>1</td>\n",
       "      <td>old</td>\n",
       "      <td>normal</td>\n",
       "      <td>Missing</td>\n",
       "      <td>Missing</td>\n",
       "      <td>missing</td>\n",
       "      <td>abnormal</td>\n",
       "      <td>Missing</td>\n",
       "      <td>Missing</td>\n",
       "      <td>-43.69</td>\n",
       "      <td>4</td>\n",
       "      <td>0</td>\n",
       "    </tr>\n",
       "    <tr>\n",
       "      <td>4</td>\n",
       "      <td>1</td>\n",
       "      <td>old</td>\n",
       "      <td>normal</td>\n",
       "      <td>normal</td>\n",
       "      <td>Missing</td>\n",
       "      <td>missing</td>\n",
       "      <td>normal</td>\n",
       "      <td>Missing</td>\n",
       "      <td>Missing</td>\n",
       "      <td>-43.69</td>\n",
       "      <td>5</td>\n",
       "      <td>0</td>\n",
       "    </tr>\n",
       "  </tbody>\n",
       "</table>\n",
       "</div>"
      ],
      "text/plain": [
       "   Gender new_age new_o2sat new_temp   new_bp new_resp   new_map new_fio2  \\\n",
       "0       1     old   missing  Missing  Missing  missing   Missing  Missing   \n",
       "1       1     old    normal  Missing  Missing  missing  abnormal  Missing   \n",
       "2       1     old    normal   normal  Missing  missing  abnormal  Missing   \n",
       "3       1     old    normal  Missing  Missing  missing  abnormal  Missing   \n",
       "4       1     old    normal   normal  Missing  missing    normal  Missing   \n",
       "\n",
       "    new_hr  HospAdmTime  ICULOS  SepsisLabel  \n",
       "0  Missing       -43.69       1            0  \n",
       "1  Missing       -43.69       2            0  \n",
       "2  Missing       -43.69       3            0  \n",
       "3  Missing       -43.69       4            0  \n",
       "4  Missing       -43.69       5            0  "
      ]
     },
     "execution_count": 36,
     "metadata": {},
     "output_type": "execute_result"
    }
   ],
   "source": [
    "all_data_test.head()"
   ]
  },
  {
   "cell_type": "code",
   "execution_count": 37,
   "metadata": {},
   "outputs": [],
   "source": [
    "\n",
    "\n",
    "X_train = sepsis_data[columns_new]\n",
    "y_train = sepsis_data['SepsisLabel']\n",
    "\n",
    "X_test = sepsis_data_test[columns_new]\n",
    "y_test = sepsis_data_test['SepsisLabel']"
   ]
  },
  {
   "cell_type": "code",
   "execution_count": 38,
   "metadata": {},
   "outputs": [
    {
     "data": {
      "text/html": [
       "<div>\n",
       "<style scoped>\n",
       "    .dataframe tbody tr th:only-of-type {\n",
       "        vertical-align: middle;\n",
       "    }\n",
       "\n",
       "    .dataframe tbody tr th {\n",
       "        vertical-align: top;\n",
       "    }\n",
       "\n",
       "    .dataframe thead th {\n",
       "        text-align: right;\n",
       "    }\n",
       "</style>\n",
       "<table border=\"1\" class=\"dataframe\">\n",
       "  <thead>\n",
       "    <tr style=\"text-align: right;\">\n",
       "      <th></th>\n",
       "      <th>Gender</th>\n",
       "      <th>new_age</th>\n",
       "      <th>new_o2sat</th>\n",
       "      <th>new_temp</th>\n",
       "      <th>new_bp</th>\n",
       "      <th>new_resp</th>\n",
       "      <th>new_map</th>\n",
       "      <th>new_fio2</th>\n",
       "      <th>new_hr</th>\n",
       "      <th>HospAdmTime</th>\n",
       "      <th>ICULOS</th>\n",
       "    </tr>\n",
       "  </thead>\n",
       "  <tbody>\n",
       "    <tr>\n",
       "      <td>0</td>\n",
       "      <td>0</td>\n",
       "      <td>old</td>\n",
       "      <td>missing</td>\n",
       "      <td>Missing</td>\n",
       "      <td>Missing</td>\n",
       "      <td>missing</td>\n",
       "      <td>Missing</td>\n",
       "      <td>Missing</td>\n",
       "      <td>Missing</td>\n",
       "      <td>-0.03</td>\n",
       "      <td>1</td>\n",
       "    </tr>\n",
       "    <tr>\n",
       "      <td>1</td>\n",
       "      <td>0</td>\n",
       "      <td>old</td>\n",
       "      <td>normal</td>\n",
       "      <td>Missing</td>\n",
       "      <td>Missing</td>\n",
       "      <td>normal</td>\n",
       "      <td>normal</td>\n",
       "      <td>Missing</td>\n",
       "      <td>Missing</td>\n",
       "      <td>-0.03</td>\n",
       "      <td>2</td>\n",
       "    </tr>\n",
       "    <tr>\n",
       "      <td>2</td>\n",
       "      <td>0</td>\n",
       "      <td>old</td>\n",
       "      <td>normal</td>\n",
       "      <td>Missing</td>\n",
       "      <td>Missing</td>\n",
       "      <td>abnormal</td>\n",
       "      <td>normal</td>\n",
       "      <td>Missing</td>\n",
       "      <td>Missing</td>\n",
       "      <td>-0.03</td>\n",
       "      <td>3</td>\n",
       "    </tr>\n",
       "    <tr>\n",
       "      <td>3</td>\n",
       "      <td>0</td>\n",
       "      <td>old</td>\n",
       "      <td>normal</td>\n",
       "      <td>Missing</td>\n",
       "      <td>Missing</td>\n",
       "      <td>abnormal</td>\n",
       "      <td>Missing</td>\n",
       "      <td>Missing</td>\n",
       "      <td>Missing</td>\n",
       "      <td>-0.03</td>\n",
       "      <td>4</td>\n",
       "    </tr>\n",
       "    <tr>\n",
       "      <td>4</td>\n",
       "      <td>0</td>\n",
       "      <td>old</td>\n",
       "      <td>abnormal</td>\n",
       "      <td>Missing</td>\n",
       "      <td>Missing</td>\n",
       "      <td>abnormal</td>\n",
       "      <td>normal</td>\n",
       "      <td>normal</td>\n",
       "      <td>abnormal</td>\n",
       "      <td>-0.03</td>\n",
       "      <td>5</td>\n",
       "    </tr>\n",
       "  </tbody>\n",
       "</table>\n",
       "</div>"
      ],
      "text/plain": [
       "   Gender new_age new_o2sat new_temp   new_bp  new_resp  new_map new_fio2  \\\n",
       "0       0     old   missing  Missing  Missing   missing  Missing  Missing   \n",
       "1       0     old    normal  Missing  Missing    normal   normal  Missing   \n",
       "2       0     old    normal  Missing  Missing  abnormal   normal  Missing   \n",
       "3       0     old    normal  Missing  Missing  abnormal  Missing  Missing   \n",
       "4       0     old  abnormal  Missing  Missing  abnormal   normal   normal   \n",
       "\n",
       "     new_hr  HospAdmTime  ICULOS  \n",
       "0   Missing        -0.03       1  \n",
       "1   Missing        -0.03       2  \n",
       "2   Missing        -0.03       3  \n",
       "3   Missing        -0.03       4  \n",
       "4  abnormal        -0.03       5  "
      ]
     },
     "execution_count": 38,
     "metadata": {},
     "output_type": "execute_result"
    }
   ],
   "source": [
    "X_train.head()"
   ]
  },
  {
   "cell_type": "code",
   "execution_count": 39,
   "metadata": {},
   "outputs": [],
   "source": [
    "# Problem - Make sure all the items in the columns are oneHotencoded"
   ]
  },
  {
   "cell_type": "code",
   "execution_count": 40,
   "metadata": {},
   "outputs": [],
   "source": [
    "#_ = scatter_matrix(X_train, figsize = [8,8], s=150, marker = 'D')"
   ]
  },
  {
   "cell_type": "code",
   "execution_count": 41,
   "metadata": {},
   "outputs": [
    {
     "data": {
      "text/plain": [
       "\"plt.figure()\\nsns.countplot(x = 'Gender', hue = 'SepsisLabel', data = sepsis_data)\\nplt.xticks([0,1], ['Female', 'Male'])\\nplt.show()\""
      ]
     },
     "execution_count": 41,
     "metadata": {},
     "output_type": "execute_result"
    }
   ],
   "source": [
    "\"\"\"plt.figure()\n",
    "sns.countplot(x = 'Gender', hue = 'SepsisLabel', data = sepsis_data)\n",
    "plt.xticks([0,1], ['Female', 'Male'])\n",
    "plt.show()\"\"\""
   ]
  },
  {
   "cell_type": "markdown",
   "metadata": {},
   "source": [
    "## Imputation for Missing values and Scaling the vales"
   ]
  },
  {
   "cell_type": "markdown",
   "metadata": {},
   "source": [
    "#### Building a sklearn pipeline to do all the work all at once. "
   ]
  },
  {
   "cell_type": "code",
   "execution_count": 42,
   "metadata": {},
   "outputs": [
    {
     "data": {
      "text/plain": [
       "0    1336649\n",
       "1      25015\n",
       "Name: SepsisLabel, dtype: int64"
      ]
     },
     "execution_count": 42,
     "metadata": {},
     "output_type": "execute_result"
    }
   ],
   "source": [
    "sepsis_data['SepsisLabel'].value_counts()"
   ]
  },
  {
   "cell_type": "code",
   "execution_count": 43,
   "metadata": {},
   "outputs": [],
   "source": [
    "# Func 1\n",
    "values = X_train.dtypes == object\n",
    "values['Gender'] = True"
   ]
  },
  {
   "cell_type": "code",
   "execution_count": 44,
   "metadata": {},
   "outputs": [
    {
     "data": {
      "text/plain": [
       "Pipeline(memory=None,\n",
       "         steps=[('onehotencoder',\n",
       "                 OneHotEncoder(categorical_features=None, categories=None,\n",
       "                               drop=None, dtype=<class 'numpy.float64'>,\n",
       "                               handle_unknown='ignore', n_values=None,\n",
       "                               sparse=True))],\n",
       "         verbose=False)"
      ]
     },
     "execution_count": 44,
     "metadata": {},
     "output_type": "execute_result"
    }
   ],
   "source": [
    "# Func 2 - cat_pipeline\n",
    "one_hot = OneHotEncoder( categorical_features=None, categories=None, drop=None, handle_unknown='ignore', n_values=None, sparse=True)\n",
    "steps = [('onehotencoder', one_hot)]\n",
    "one_hot_pipe = Pipeline(steps, memory=None, verbose=False)\n",
    "\n",
    "one_hot_pipe"
   ]
  },
  {
   "cell_type": "code",
   "execution_count": 45,
   "metadata": {},
   "outputs": [],
   "source": [
    "# Func 3 - cont_scale_pipeline\n",
    "\n",
    "steps_simp_scal =[('simpleimputer',\n",
    "                 SimpleImputer(add_indicator=False, copy=True, fill_value=None,\n",
    "                               missing_values=np.nan, strategy='median',\n",
    "                               verbose=0)),\n",
    "                ('standardscaler',\n",
    "                 StandardScaler(copy=True, with_mean=True, with_std=True))]\n",
    "simp_scal_pipe = Pipeline(steps_simp_scal, memory=None, verbose=False)\n"
   ]
  },
  {
   "cell_type": "code",
   "execution_count": 46,
   "metadata": {},
   "outputs": [
    {
     "data": {
      "text/plain": [
       "ColumnTransformer(n_jobs=None, remainder='drop', sparse_threshold=0.3,\n",
       "                  transformer_weights=None,\n",
       "                  transformers=[('pipeline-1',\n",
       "                                 Pipeline(memory=None,\n",
       "                                          steps=[('simpleimputer',\n",
       "                                                  SimpleImputer(add_indicator=False,\n",
       "                                                                copy=True,\n",
       "                                                                fill_value=None,\n",
       "                                                                missing_values=nan,\n",
       "                                                                strategy='median',\n",
       "                                                                verbose=0)),\n",
       "                                                 ('standardscaler',\n",
       "                                                  StandardScaler(copy=True,\n",
       "                                                                 with_mean=True,\n",
       "                                                                 with_std=True))],...\n",
       "                                 Pipeline(memory=None,\n",
       "                                          steps=[('onehotencoder',\n",
       "                                                  OneHotEncoder(categorical_features=None,\n",
       "                                                                categories=None,\n",
       "                                                                drop=None,\n",
       "                                                                dtype=<class 'numpy.float64'>,\n",
       "                                                                handle_unknown='ignore',\n",
       "                                                                n_values=None,\n",
       "                                                                sparse=True))],\n",
       "                                          verbose=False),\n",
       "                                 Gender          True\n",
       "new_age         True\n",
       "new_o2sat       True\n",
       "new_temp        True\n",
       "new_bp          True\n",
       "new_resp        True\n",
       "new_map         True\n",
       "new_fio2        True\n",
       "new_hr          True\n",
       "HospAdmTime    False\n",
       "ICULOS         False\n",
       "dtype: bool)],\n",
       "                  verbose=False)"
      ]
     },
     "execution_count": 46,
     "metadata": {},
     "output_type": "execute_result"
    }
   ],
   "source": [
    "# Func 4 - keep same\n",
    "\n",
    "transform_col_pipe = make_column_transformer((simp_scal_pipe, \n",
    "                                                  ~values), \n",
    "                                                 (one_hot_pipe, values))\n",
    "transform_col_pipe"
   ]
  },
  {
   "cell_type": "code",
   "execution_count": 47,
   "metadata": {},
   "outputs": [
    {
     "name": "stdout",
     "output_type": "stream",
     "text": [
      "<class 'pandas.core.frame.DataFrame'>\n",
      "Int64Index: 1361664 entries, 0 to 1361671\n",
      "Data columns (total 11 columns):\n",
      "Gender         1361664 non-null int64\n",
      "new_age        1361664 non-null object\n",
      "new_o2sat      1361664 non-null object\n",
      "new_temp       1361664 non-null object\n",
      "new_bp         1361664 non-null object\n",
      "new_resp       1361664 non-null object\n",
      "new_map        1361664 non-null object\n",
      "new_fio2       1361664 non-null object\n",
      "new_hr         1361664 non-null object\n",
      "HospAdmTime    1361664 non-null float64\n",
      "ICULOS         1361664 non-null int64\n",
      "dtypes: float64(1), int64(2), object(8)\n",
      "memory usage: 124.7+ MB\n"
     ]
    }
   ],
   "source": [
    "X_train.info()"
   ]
  },
  {
   "cell_type": "markdown",
   "metadata": {},
   "source": [
    "### Logistic Regression"
   ]
  },
  {
   "cell_type": "code",
   "execution_count": 48,
   "metadata": {},
   "outputs": [],
   "source": [
    "# Func 5 - \n",
    "\n",
    "log_reg_scale = make_pipeline(transform_col_pipe, LogisticRegression( C= 0.01, solver = 'lbfgs', dual=False))\n",
    "\n",
    "log_reg_model = log_reg_scale.fit(X_train, y_train)"
   ]
  },
  {
   "cell_type": "code",
   "execution_count": 49,
   "metadata": {},
   "outputs": [
    {
     "data": {
      "text/plain": [
       "array([[187707,      7],\n",
       "       [  2895,      6]])"
      ]
     },
     "execution_count": 49,
     "metadata": {},
     "output_type": "execute_result"
    }
   ],
   "source": [
    "#Func 6 -\n",
    "predicted = log_reg_scale.predict(X_test)\n",
    "conf_matrix = confusion_matrix(y_test, predicted)\n",
    "conf_matrix"
   ]
  },
  {
   "cell_type": "code",
   "execution_count": 50,
   "metadata": {},
   "outputs": [
    {
     "data": {
      "image/png": "[encoded data removed]",
      "text/plain": [
       "<Figure size 432x288 with 2 Axes>"
      ]
     },
     "metadata": {},
     "output_type": "display_data"
    }
   ],
   "source": [
    "sns.heatmap(conf_matrix, annot=True, fmt=\"d\");"
   ]
  },
  {
   "cell_type": "code",
   "execution_count": 51,
   "metadata": {},
   "outputs": [],
   "source": [
    "# Func 7 -\n",
    "def score_model(model, metric_list, y_true, y_pred):\n",
    "    metric_dict = {'precision' :  precision_score, 'recall' : recall_score, \n",
    "                 'confusion_matrix' : confusion_matrix, \n",
    "                 'avg_precision': average_precision_score,\n",
    "                  'accuracy_score': accuracy_score}\n",
    "    df = pd.DataFrame()\n",
    "    df['model'] = [model]\n",
    "    for metric in metric_list:\n",
    "        df[metric] = [metric_dict[metric](y_true, y_pred)]\n",
    "    return df"
   ]
  },
  {
   "cell_type": "code",
   "execution_count": 52,
   "metadata": {},
   "outputs": [
    {
     "data": {
      "text/html": [
       "<div>\n",
       "<style scoped>\n",
       "    .dataframe tbody tr th:only-of-type {\n",
       "        vertical-align: middle;\n",
       "    }\n",
       "\n",
       "    .dataframe tbody tr th {\n",
       "        vertical-align: top;\n",
       "    }\n",
       "\n",
       "    .dataframe thead th {\n",
       "        text-align: right;\n",
       "    }\n",
       "</style>\n",
       "<table border=\"1\" class=\"dataframe\">\n",
       "  <thead>\n",
       "    <tr style=\"text-align: right;\">\n",
       "      <th></th>\n",
       "      <th>model</th>\n",
       "      <th>recall</th>\n",
       "      <th>precision</th>\n",
       "      <th>avg_precision</th>\n",
       "      <th>accuracy_score</th>\n",
       "    </tr>\n",
       "  </thead>\n",
       "  <tbody>\n",
       "    <tr>\n",
       "      <td>0</td>\n",
       "      <td>Logistic_regression</td>\n",
       "      <td>0.002068</td>\n",
       "      <td>0.461538</td>\n",
       "      <td>0.016142</td>\n",
       "      <td>0.984776</td>\n",
       "    </tr>\n",
       "  </tbody>\n",
       "</table>\n",
       "</div>"
      ],
      "text/plain": [
       "                 model    recall  precision  avg_precision  accuracy_score\n",
       "0  Logistic_regression  0.002068   0.461538       0.016142        0.984776"
      ]
     },
     "execution_count": 52,
     "metadata": {},
     "output_type": "execute_result"
    }
   ],
   "source": [
    "score_model('Logistic_regression', ['recall','precision', 'avg_precision', 'accuracy_score'],\n",
    "            y_test, predicted)"
   ]
  },
  {
   "cell_type": "markdown",
   "metadata": {},
   "source": [
    "### SVM"
   ]
  },
  {
   "cell_type": "code",
   "execution_count": 53,
   "metadata": {},
   "outputs": [],
   "source": [
    "svm_scale = make_pipeline(transform_col_pipe, SVC())"
   ]
  },
  {
   "cell_type": "code",
   "execution_count": 54,
   "metadata": {},
   "outputs": [
    {
     "data": {
      "text/plain": [
       "Pipeline(memory=None,\n",
       "         steps=[('columntransformer',\n",
       "                 ColumnTransformer(n_jobs=None, remainder='drop',\n",
       "                                   sparse_threshold=0.3,\n",
       "                                   transformer_weights=None,\n",
       "                                   transformers=[('pipeline-1',\n",
       "                                                  Pipeline(memory=None,\n",
       "                                                           steps=[('simpleimputer',\n",
       "                                                                   SimpleImputer(add_indicator=False,\n",
       "                                                                                 copy=True,\n",
       "                                                                                 fill_value=None,\n",
       "                                                                                 missing_values=nan,\n",
       "                                                                                 strategy='median',\n",
       "                                                                                 verbose=0)),\n",
       "                                                                  ('standardscaler',\n",
       "                                                                   Standard...\n",
       "new_bp          True\n",
       "new_resp        True\n",
       "new_map         True\n",
       "new_fio2        True\n",
       "new_hr          True\n",
       "HospAdmTime    False\n",
       "ICULOS         False\n",
       "dtype: bool)],\n",
       "                                   verbose=False)),\n",
       "                ('svc',\n",
       "                 SVC(C=1.0, cache_size=200, class_weight=None, coef0=0.0,\n",
       "                     decision_function_shape='ovr', degree=3,\n",
       "                     gamma='auto_deprecated', kernel='rbf', max_iter=-1,\n",
       "                     probability=False, random_state=None, shrinking=True,\n",
       "                     tol=0.001, verbose=False))],\n",
       "         verbose=False)"
      ]
     },
     "execution_count": 54,
     "metadata": {},
     "output_type": "execute_result"
    }
   ],
   "source": [
    "svm_scale"
   ]
  },
  {
   "cell_type": "code",
   "execution_count": 55,
   "metadata": {},
   "outputs": [],
   "source": [
    "parameteres = {'SVM__C':[0.001,0.1,10,100,10e5], 'SVM__gamma':[0.1,0.01]}"
   ]
  },
  {
   "cell_type": "code",
   "execution_count": 56,
   "metadata": {},
   "outputs": [],
   "source": [
    "from sklearn.model_selection import GridSearchCV"
   ]
  },
  {
   "cell_type": "code",
   "execution_count": 57,
   "metadata": {},
   "outputs": [],
   "source": [
    "grid = GridSearchCV(svm_scale, param_grid=parameteres, cv=5)"
   ]
  },
  {
   "cell_type": "code",
   "execution_count": null,
   "metadata": {},
   "outputs": [],
   "source": [
    "grid.fit(X_train, y_train)"
   ]
  },
  {
   "cell_type": "code",
   "execution_count": null,
   "metadata": {},
   "outputs": [],
   "source": [
    "svm_model = svm_scale.fit(X_train, y_train)"
   ]
  },
  {
   "cell_type": "code",
   "execution_count": null,
   "metadata": {},
   "outputs": [],
   "source": [
    "predicted_svm = svm_scale.predict(X_test)\n"
   ]
  },
  {
   "cell_type": "code",
   "execution_count": null,
   "metadata": {},
   "outputs": [],
   "source": [
    "score_model('Support Vector Machine', ['recall','precision', 'avg_precision', 'accuracy_score'],\n",
    "            y_test, predicted)"
   ]
  },
  {
   "cell_type": "markdown",
   "metadata": {},
   "source": [
    "### Label Encoder"
   ]
  },
  {
   "cell_type": "code",
   "execution_count": 59,
   "metadata": {},
   "outputs": [],
   "source": [
    "le=LabelEncoder()"
   ]
  },
  {
   "cell_type": "code",
   "execution_count": 60,
   "metadata": {},
   "outputs": [],
   "source": [
    "for col in X_test.columns.values:\n",
    "    # Encoding only categorical variables\n",
    "    if X_test[col].dtypes=='object':\n",
    "        # Using whole data to form an exhaustive list of levels\n",
    "        data=X_train[col].append(X_test[col])\n",
    "        le.fit(data.values)\n",
    "        X_train[col]=le.transform(X_train[col])\n",
    "        X_test[col]=le.transform(X_test[col])"
   ]
  },
  {
   "cell_type": "code",
   "execution_count": 62,
   "metadata": {},
   "outputs": [
    {
     "data": {
      "text/html": [
       "<div>\n",
       "<style scoped>\n",
       "    .dataframe tbody tr th:only-of-type {\n",
       "        vertical-align: middle;\n",
       "    }\n",
       "\n",
       "    .dataframe tbody tr th {\n",
       "        vertical-align: top;\n",
       "    }\n",
       "\n",
       "    .dataframe thead th {\n",
       "        text-align: right;\n",
       "    }\n",
       "</style>\n",
       "<table border=\"1\" class=\"dataframe\">\n",
       "  <thead>\n",
       "    <tr style=\"text-align: right;\">\n",
       "      <th></th>\n",
       "      <th>Gender</th>\n",
       "      <th>new_age</th>\n",
       "      <th>new_o2sat</th>\n",
       "      <th>new_temp</th>\n",
       "      <th>new_bp</th>\n",
       "      <th>new_resp</th>\n",
       "      <th>new_map</th>\n",
       "      <th>new_fio2</th>\n",
       "      <th>new_hr</th>\n",
       "      <th>HospAdmTime</th>\n",
       "      <th>ICULOS</th>\n",
       "    </tr>\n",
       "  </thead>\n",
       "  <tbody>\n",
       "    <tr>\n",
       "      <td>0</td>\n",
       "      <td>0</td>\n",
       "      <td>1</td>\n",
       "      <td>1</td>\n",
       "      <td>0</td>\n",
       "      <td>0</td>\n",
       "      <td>1</td>\n",
       "      <td>0</td>\n",
       "      <td>0</td>\n",
       "      <td>0</td>\n",
       "      <td>-0.03</td>\n",
       "      <td>1</td>\n",
       "    </tr>\n",
       "    <tr>\n",
       "      <td>1</td>\n",
       "      <td>0</td>\n",
       "      <td>1</td>\n",
       "      <td>2</td>\n",
       "      <td>0</td>\n",
       "      <td>0</td>\n",
       "      <td>2</td>\n",
       "      <td>2</td>\n",
       "      <td>0</td>\n",
       "      <td>0</td>\n",
       "      <td>-0.03</td>\n",
       "      <td>2</td>\n",
       "    </tr>\n",
       "    <tr>\n",
       "      <td>2</td>\n",
       "      <td>0</td>\n",
       "      <td>1</td>\n",
       "      <td>2</td>\n",
       "      <td>0</td>\n",
       "      <td>0</td>\n",
       "      <td>0</td>\n",
       "      <td>2</td>\n",
       "      <td>0</td>\n",
       "      <td>0</td>\n",
       "      <td>-0.03</td>\n",
       "      <td>3</td>\n",
       "    </tr>\n",
       "    <tr>\n",
       "      <td>3</td>\n",
       "      <td>0</td>\n",
       "      <td>1</td>\n",
       "      <td>2</td>\n",
       "      <td>0</td>\n",
       "      <td>0</td>\n",
       "      <td>0</td>\n",
       "      <td>0</td>\n",
       "      <td>0</td>\n",
       "      <td>0</td>\n",
       "      <td>-0.03</td>\n",
       "      <td>4</td>\n",
       "    </tr>\n",
       "    <tr>\n",
       "      <td>4</td>\n",
       "      <td>0</td>\n",
       "      <td>1</td>\n",
       "      <td>0</td>\n",
       "      <td>0</td>\n",
       "      <td>0</td>\n",
       "      <td>0</td>\n",
       "      <td>2</td>\n",
       "      <td>2</td>\n",
       "      <td>1</td>\n",
       "      <td>-0.03</td>\n",
       "      <td>5</td>\n",
       "    </tr>\n",
       "  </tbody>\n",
       "</table>\n",
       "</div>"
      ],
      "text/plain": [
       "   Gender  new_age  new_o2sat  new_temp  new_bp  new_resp  new_map  new_fio2  \\\n",
       "0       0        1          1         0       0         1        0         0   \n",
       "1       0        1          2         0       0         2        2         0   \n",
       "2       0        1          2         0       0         0        2         0   \n",
       "3       0        1          2         0       0         0        0         0   \n",
       "4       0        1          0         0       0         0        2         2   \n",
       "\n",
       "   new_hr  HospAdmTime  ICULOS  \n",
       "0       0        -0.03       1  \n",
       "1       0        -0.03       2  \n",
       "2       0        -0.03       3  \n",
       "3       0        -0.03       4  \n",
       "4       1        -0.03       5  "
      ]
     },
     "execution_count": 62,
     "metadata": {},
     "output_type": "execute_result"
    }
   ],
   "source": [
    "X_train.head()"
   ]
  },
  {
   "cell_type": "code",
   "execution_count": null,
   "metadata": {},
   "outputs": [],
   "source": [
    "X_train.tail()"
   ]
  },
  {
   "cell_type": "code",
   "execution_count": 145,
   "metadata": {},
   "outputs": [
    {
     "name": "stdout",
     "output_type": "stream",
     "text": [
      "<class 'pandas.core.frame.DataFrame'>\n",
      "RangeIndex: 190615 entries, 0 to 190614\n",
      "Data columns (total 11 columns):\n",
      "Gender         190615 non-null int64\n",
      "new_age        190615 non-null int64\n",
      "new_o2sat      190615 non-null int64\n",
      "new_temp       190615 non-null int64\n",
      "new_bp         190615 non-null int64\n",
      "new_resp       190615 non-null int64\n",
      "new_map        190615 non-null int64\n",
      "new_fio2       190615 non-null int64\n",
      "new_hr         190615 non-null int64\n",
      "HospAdmTime    190615 non-null float64\n",
      "ICULOS         190615 non-null int64\n",
      "dtypes: float64(1), int64(10)\n",
      "memory usage: 16.0 MB\n"
     ]
    }
   ],
   "source": [
    "X_test.info()"
   ]
  },
  {
   "cell_type": "markdown",
   "metadata": {},
   "source": [
    "### Training with Logistic Regression"
   ]
  },
  {
   "cell_type": "markdown",
   "metadata": {},
   "source": [
    "### Log Reg"
   ]
  },
  {
   "cell_type": "code",
   "execution_count": 146,
   "metadata": {},
   "outputs": [],
   "source": [
    "log=LogisticRegression(penalty='l2',C=.01)"
   ]
  },
  {
   "cell_type": "code",
   "execution_count": 147,
   "metadata": {},
   "outputs": [
    {
     "data": {
      "text/plain": [
       "Gender         0\n",
       "new_age        0\n",
       "new_o2sat      0\n",
       "new_temp       0\n",
       "new_bp         0\n",
       "new_resp       0\n",
       "new_map        0\n",
       "new_fio2       0\n",
       "new_hr         0\n",
       "HospAdmTime    0\n",
       "ICULOS         0\n",
       "dtype: int64"
      ]
     },
     "execution_count": 147,
     "metadata": {},
     "output_type": "execute_result"
    }
   ],
   "source": [
    "X_train.isnull().sum()"
   ]
  },
  {
   "cell_type": "code",
   "execution_count": 148,
   "metadata": {},
   "outputs": [],
   "source": [
    "X_train = X_train.dropna(subset=['HospAdmTime'])"
   ]
  },
  {
   "cell_type": "code",
   "execution_count": 149,
   "metadata": {},
   "outputs": [
    {
     "data": {
      "text/plain": [
       "0"
      ]
     },
     "execution_count": 149,
     "metadata": {},
     "output_type": "execute_result"
    }
   ],
   "source": [
    "y_train.isnull().sum()"
   ]
  },
  {
   "cell_type": "code",
   "execution_count": 150,
   "metadata": {},
   "outputs": [
    {
     "data": {
      "text/plain": [
       "LogisticRegression(C=0.01, class_weight=None, dual=False, fit_intercept=True,\n",
       "                   intercept_scaling=1, l1_ratio=None, max_iter=100,\n",
       "                   multi_class='warn', n_jobs=None, penalty='l2',\n",
       "                   random_state=None, solver='warn', tol=0.0001, verbose=0,\n",
       "                   warm_start=False)"
      ]
     },
     "execution_count": 150,
     "metadata": {},
     "output_type": "execute_result"
    }
   ],
   "source": [
    "log.fit(X_train,y_train)"
   ]
  },
  {
   "cell_type": "code",
   "execution_count": 153,
   "metadata": {},
   "outputs": [
    {
     "data": {
      "text/plain": [
       "0.9848070718463919"
      ]
     },
     "execution_count": 153,
     "metadata": {},
     "output_type": "execute_result"
    }
   ],
   "source": [
    "accuracy_score(y_test,log.predict(X_test))"
   ]
  },
  {
   "cell_type": "markdown",
   "metadata": {},
   "source": [
    "### Training with KNN"
   ]
  },
  {
   "cell_type": "markdown",
   "metadata": {},
   "source": [
    "### KNN"
   ]
  },
  {
   "cell_type": "code",
   "execution_count": 154,
   "metadata": {},
   "outputs": [],
   "source": [
    "knn=KNeighborsClassifier(n_neighbors=5)"
   ]
  },
  {
   "cell_type": "code",
   "execution_count": 155,
   "metadata": {},
   "outputs": [
    {
     "data": {
      "text/plain": [
       "KNeighborsClassifier(algorithm='auto', leaf_size=30, metric='minkowski',\n",
       "                     metric_params=None, n_jobs=None, n_neighbors=5, p=2,\n",
       "                     weights='uniform')"
      ]
     },
     "execution_count": 155,
     "metadata": {},
     "output_type": "execute_result"
    }
   ],
   "source": [
    "knn.fit(X_train,y_train)"
   ]
  },
  {
   "cell_type": "code",
   "execution_count": 157,
   "metadata": {},
   "outputs": [
    {
     "data": {
      "text/plain": [
       "0.9802376518112426"
      ]
     },
     "execution_count": 157,
     "metadata": {},
     "output_type": "execute_result"
    }
   ],
   "source": [
    "accuracy_score(y_test,knn.predict(X_test))"
   ]
  },
  {
   "cell_type": "code",
   "execution_count": 158,
   "metadata": {},
   "outputs": [],
   "source": [
    "dt = DecisionTreeClassifier()\n"
   ]
  },
  {
   "cell_type": "code",
   "execution_count": 160,
   "metadata": {},
   "outputs": [
    {
     "data": {
      "text/plain": [
       "DecisionTreeClassifier(class_weight=None, criterion='gini', max_depth=None,\n",
       "                       max_features=None, max_leaf_nodes=None,\n",
       "                       min_impurity_decrease=0.0, min_impurity_split=None,\n",
       "                       min_samples_leaf=1, min_samples_split=2,\n",
       "                       min_weight_fraction_leaf=0.0, presort=False,\n",
       "                       random_state=None, splitter='best')"
      ]
     },
     "execution_count": 160,
     "metadata": {},
     "output_type": "execute_result"
    }
   ],
   "source": [
    "dt.fit(X_train,y_train)"
   ]
  },
  {
   "cell_type": "code",
   "execution_count": 162,
   "metadata": {},
   "outputs": [
    {
     "data": {
      "text/plain": [
       "0.9658998504839598"
      ]
     },
     "execution_count": 162,
     "metadata": {},
     "output_type": "execute_result"
    }
   ],
   "source": [
    "accuracy_score(y_test,dt.predict(X_test))"
   ]
  },
  {
   "cell_type": "code",
   "execution_count": 163,
   "metadata": {},
   "outputs": [],
   "source": [
    "predicted_log = log.predict(X_test)\n",
    "conf_matrix_log = confusion_matrix(y_test, predicted_log)"
   ]
  },
  {
   "cell_type": "code",
   "execution_count": 164,
   "metadata": {},
   "outputs": [
    {
     "data": {
      "text/plain": [
       "array([[187713,      1],\n",
       "       [  2895,      6]])"
      ]
     },
     "execution_count": 164,
     "metadata": {},
     "output_type": "execute_result"
    }
   ],
   "source": [
    "conf_matrix_log"
   ]
  },
  {
   "cell_type": "code",
   "execution_count": null,
   "metadata": {},
   "outputs": [],
   "source": [
    "\"\"\"\n",
    "https://www.analyticsvidhya.com/blog/2016/07/practical-guide-data-preprocessing-python-scikit-learn/\n",
    "\"\"\""
   ]
  }
 ],
 "metadata": {
  "kernelspec": {
   "display_name": "Python 3",
   "language": "python",
   "name": "python3"
  },
  "language_info": {
   "codemirror_mode": {
    "name": "ipython",
    "version": 3
   },
   "file_extension": ".py",
   "mimetype": "text/x-python",
   "name": "python",
   "nbconvert_exporter": "python",
   "pygments_lexer": "ipython3",
   "version": "3.7.4"
  }
 },
 "nbformat": 4,
 "nbformat_minor": 2
}
